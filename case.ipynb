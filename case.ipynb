{
 "cells": [
  {
   "cell_type": "code",
   "execution_count": 303,
   "metadata": {},
   "outputs": [],
   "source": [
    "import numpy as np\n",
    "import pandas as pd\n",
    "from scipy.stats import norm\n",
    "\n",
    "import matplotlib.pyplot as plt"
   ]
  },
  {
   "cell_type": "code",
   "execution_count": 304,
   "metadata": {},
   "outputs": [],
   "source": [
    "sales_dat = pd.read_csv('Sales.csv')\n",
    "nyop_dat = pd.read_csv('NYOP.csv')"
   ]
  },
  {
   "cell_type": "code",
   "execution_count": 305,
   "metadata": {},
   "outputs": [
    {
     "data": {
      "text/html": [
       "<div>\n",
       "<style scoped>\n",
       "    .dataframe tbody tr th:only-of-type {\n",
       "        vertical-align: middle;\n",
       "    }\n",
       "\n",
       "    .dataframe tbody tr th {\n",
       "        vertical-align: top;\n",
       "    }\n",
       "\n",
       "    .dataframe thead th {\n",
       "        text-align: right;\n",
       "    }\n",
       "</style>\n",
       "<table border=\"1\" class=\"dataframe\">\n",
       "  <thead>\n",
       "    <tr style=\"text-align: right;\">\n",
       "      <th></th>\n",
       "      <th>Condition</th>\n",
       "      <th>NumberSold</th>\n",
       "      <th>Riders</th>\n",
       "      <th>MerchandiseRevenues</th>\n",
       "    </tr>\n",
       "  </thead>\n",
       "  <tbody>\n",
       "    <tr>\n",
       "      <th>0</th>\n",
       "      <td>FR</td>\n",
       "      <td>77</td>\n",
       "      <td>12663</td>\n",
       "      <td>4592.41</td>\n",
       "    </tr>\n",
       "    <tr>\n",
       "      <th>1</th>\n",
       "      <td>FR</td>\n",
       "      <td>63</td>\n",
       "      <td>15561</td>\n",
       "      <td>6688.57</td>\n",
       "    </tr>\n",
       "    <tr>\n",
       "      <th>2</th>\n",
       "      <td>FR Charity</td>\n",
       "      <td>79</td>\n",
       "      <td>14796</td>\n",
       "      <td>6476.78</td>\n",
       "    </tr>\n",
       "    <tr>\n",
       "      <th>3</th>\n",
       "      <td>FR Charity</td>\n",
       "      <td>101</td>\n",
       "      <td>15796</td>\n",
       "      <td>5845.94</td>\n",
       "    </tr>\n",
       "    <tr>\n",
       "      <th>4</th>\n",
       "      <td>NYOP</td>\n",
       "      <td>1137</td>\n",
       "      <td>14077</td>\n",
       "      <td>4845.27</td>\n",
       "    </tr>\n",
       "  </tbody>\n",
       "</table>\n",
       "</div>"
      ],
      "text/plain": [
       "    Condition  NumberSold  Riders  MerchandiseRevenues\n",
       "0          FR          77   12663              4592.41\n",
       "1          FR          63   15561              6688.57\n",
       "2  FR Charity          79   14796              6476.78\n",
       "3  FR Charity         101   15796              5845.94\n",
       "4        NYOP        1137   14077              4845.27"
      ]
     },
     "execution_count": 305,
     "metadata": {},
     "output_type": "execute_result"
    }
   ],
   "source": [
    "sales_dat.head()"
   ]
  },
  {
   "cell_type": "markdown",
   "metadata": {},
   "source": [
    "# Flat Rate Pricing"
   ]
  },
  {
   "cell_type": "markdown",
   "metadata": {},
   "source": [
    "$$\n",
    "H_0: p1 = p2 \\\\ \n",
    "H_a: p1 \\ne p2\n",
    "$$"
   ]
  },
  {
   "cell_type": "code",
   "execution_count": 306,
   "metadata": {},
   "outputs": [
    {
     "data": {
      "text/plain": [
       "Condition\n",
       "FR            0.004960\n",
       "FR Charity    0.005884\n",
       "dtype: float64"
      ]
     },
     "execution_count": 306,
     "metadata": {},
     "output_type": "execute_result"
    }
   ],
   "source": [
    "flat_rates = sales_dat[(sales_dat['Condition'] == \"FR\") | (sales_dat['Condition'] == \"FR Charity\")]\n",
    "fr_rates = flat_rates.groupby('Condition')['NumberSold'].sum() / flat_rates.groupby('Condition')['Riders'].sum()\n",
    "fr_rates"
   ]
  },
  {
   "cell_type": "code",
   "execution_count": 307,
   "metadata": {},
   "outputs": [
    {
     "data": {
      "text/plain": [
       "Condition\n",
       "FR            28224\n",
       "FR Charity    30592\n",
       "Name: Riders, dtype: int64"
      ]
     },
     "execution_count": 307,
     "metadata": {},
     "output_type": "execute_result"
    }
   ],
   "source": [
    "n_s = flat_rates.groupby('Condition')['Riders'].sum()\n",
    "n_s"
   ]
  },
  {
   "cell_type": "code",
   "execution_count": 308,
   "metadata": {},
   "outputs": [],
   "source": [
    "p1 = fr_rates.iloc[0]\n",
    "p2 = fr_rates.iloc[1]\n",
    "n1 = n_s.iloc[0]\n",
    "n2 = n_s.iloc[1]"
   ]
  },
  {
   "cell_type": "code",
   "execution_count": 309,
   "metadata": {},
   "outputs": [
    {
     "data": {
      "text/plain": [
       "-1.5264554280529021"
      ]
     },
     "execution_count": 309,
     "metadata": {},
     "output_type": "execute_result"
    }
   ],
   "source": [
    "pt1 = p1*(1-p1) / n1\n",
    "pt2 = p2*(1-p2) / n2\n",
    "denom = np.sqrt(pt1 + pt2)\n",
    "\n",
    "test_stat = (p1-p2) / denom\n",
    "test_stat"
   ]
  },
  {
   "cell_type": "code",
   "execution_count": 310,
   "metadata": {},
   "outputs": [
    {
     "data": {
      "text/plain": [
       "0.12689648269385967"
      ]
     },
     "execution_count": 310,
     "metadata": {},
     "output_type": "execute_result"
    }
   ],
   "source": [
    "2 * (1 - norm.cdf(abs(test_stat)))"
   ]
  },
  {
   "cell_type": "markdown",
   "metadata": {},
   "source": [
    "There is a 12.689 chance that the FR and FR Charity sales values occur under a normal distribution. Hence, as it is over the 5 percent significance level, you will fail to reject the chance that there is no difference between the proportion of purchases."
   ]
  },
  {
   "cell_type": "markdown",
   "metadata": {},
   "source": [
    "# NYOP Pricing"
   ]
  },
  {
   "cell_type": "code",
   "execution_count": 311,
   "metadata": {},
   "outputs": [
    {
     "data": {
      "text/html": [
       "<div>\n",
       "<style scoped>\n",
       "    .dataframe tbody tr th:only-of-type {\n",
       "        vertical-align: middle;\n",
       "    }\n",
       "\n",
       "    .dataframe tbody tr th {\n",
       "        vertical-align: top;\n",
       "    }\n",
       "\n",
       "    .dataframe thead th {\n",
       "        text-align: right;\n",
       "    }\n",
       "</style>\n",
       "<table border=\"1\" class=\"dataframe\">\n",
       "  <thead>\n",
       "    <tr style=\"text-align: right;\">\n",
       "      <th></th>\n",
       "      <th>Condition</th>\n",
       "      <th>NumberSold</th>\n",
       "      <th>Riders</th>\n",
       "      <th>MerchandiseRevenues</th>\n",
       "    </tr>\n",
       "  </thead>\n",
       "  <tbody>\n",
       "    <tr>\n",
       "      <th>4</th>\n",
       "      <td>NYOP</td>\n",
       "      <td>1137</td>\n",
       "      <td>14077</td>\n",
       "      <td>4845.27</td>\n",
       "    </tr>\n",
       "    <tr>\n",
       "      <th>5</th>\n",
       "      <td>NYOP</td>\n",
       "      <td>1233</td>\n",
       "      <td>14186</td>\n",
       "      <td>7038.63</td>\n",
       "    </tr>\n",
       "    <tr>\n",
       "      <th>6</th>\n",
       "      <td>NYOP Charity</td>\n",
       "      <td>539</td>\n",
       "      <td>12227</td>\n",
       "      <td>5690.59</td>\n",
       "    </tr>\n",
       "    <tr>\n",
       "      <th>7</th>\n",
       "      <td>NYOP Charity</td>\n",
       "      <td>628</td>\n",
       "      <td>13741</td>\n",
       "      <td>6003.44</td>\n",
       "    </tr>\n",
       "    <tr>\n",
       "      <th>8</th>\n",
       "      <td>NYOP Charity</td>\n",
       "      <td>626</td>\n",
       "      <td>18117</td>\n",
       "      <td>8557.47</td>\n",
       "    </tr>\n",
       "  </tbody>\n",
       "</table>\n",
       "</div>"
      ],
      "text/plain": [
       "      Condition  NumberSold  Riders  MerchandiseRevenues\n",
       "4          NYOP        1137   14077              4845.27\n",
       "5          NYOP        1233   14186              7038.63\n",
       "6  NYOP Charity         539   12227              5690.59\n",
       "7  NYOP Charity         628   13741              6003.44\n",
       "8  NYOP Charity         626   18117              8557.47"
      ]
     },
     "execution_count": 311,
     "metadata": {},
     "output_type": "execute_result"
    }
   ],
   "source": [
    "NYOP_sales = sales_dat[(sales_dat['Condition'] == 'NYOP') | (sales_dat['Condition'] == 'NYOP Charity')]\n",
    "NYOP_sales"
   ]
  },
  {
   "cell_type": "code",
   "execution_count": 312,
   "metadata": {},
   "outputs": [
    {
     "data": {
      "text/plain": [
       "Condition\n",
       "NYOP            0.083855\n",
       "NYOP Charity    0.040671\n",
       "dtype: float64"
      ]
     },
     "execution_count": 312,
     "metadata": {},
     "output_type": "execute_result"
    }
   ],
   "source": [
    "NYOP_rates = NYOP_sales.groupby('Condition')['NumberSold'].sum() / NYOP_sales.groupby('Condition')['Riders'].sum()\n",
    "NYOP_rates"
   ]
  },
  {
   "cell_type": "code",
   "execution_count": 313,
   "metadata": {},
   "outputs": [
    {
     "data": {
      "text/plain": [
       "Condition\n",
       "NYOP            28263\n",
       "NYOP Charity    44085\n",
       "Name: Riders, dtype: int64"
      ]
     },
     "execution_count": 313,
     "metadata": {},
     "output_type": "execute_result"
    }
   ],
   "source": [
    "n_s = NYOP_sales.groupby('Condition')['Riders'].sum()\n",
    "n_s"
   ]
  },
  {
   "cell_type": "code",
   "execution_count": 314,
   "metadata": {},
   "outputs": [],
   "source": [
    "p1 = NYOP_rates.iloc[0]\n",
    "p2 = NYOP_rates.iloc[1]\n",
    "n1 = n_s.iloc[0]\n",
    "n2 = n_s.iloc[1]"
   ]
  },
  {
   "cell_type": "code",
   "execution_count": 315,
   "metadata": {},
   "outputs": [
    {
     "data": {
      "text/plain": [
       "22.749707261972425"
      ]
     },
     "execution_count": 315,
     "metadata": {},
     "output_type": "execute_result"
    }
   ],
   "source": [
    "pt1 = p1*(1-p1) / n1\n",
    "pt2 = p2*(1-p2) / n2\n",
    "denom = np.sqrt(pt1 + pt2)\n",
    "\n",
    "test_stat = (p1-p2) / denom\n",
    "test_stat"
   ]
  },
  {
   "cell_type": "code",
   "execution_count": 316,
   "metadata": {},
   "outputs": [
    {
     "data": {
      "text/plain": [
       "0.0"
      ]
     },
     "execution_count": 316,
     "metadata": {},
     "output_type": "execute_result"
    }
   ],
   "source": [
    "2 * (1 - norm.cdf(abs(test_stat)))"
   ]
  },
  {
   "cell_type": "markdown",
   "metadata": {},
   "source": [
    "There is a 0 percent chance that the NYOP purchase rates occur under a normal distribution. Therefore, you must reject the null hypothesis that there is no difference between the proportion of purchases of the NYOP and NYOP charity."
   ]
  },
  {
   "cell_type": "markdown",
   "metadata": {},
   "source": [
    "# Section 2"
   ]
  },
  {
   "cell_type": "code",
   "execution_count": 317,
   "metadata": {},
   "outputs": [
    {
     "data": {
      "text/html": [
       "<div>\n",
       "<style scoped>\n",
       "    .dataframe tbody tr th:only-of-type {\n",
       "        vertical-align: middle;\n",
       "    }\n",
       "\n",
       "    .dataframe tbody tr th {\n",
       "        vertical-align: top;\n",
       "    }\n",
       "\n",
       "    .dataframe thead th {\n",
       "        text-align: right;\n",
       "    }\n",
       "</style>\n",
       "<table border=\"1\" class=\"dataframe\">\n",
       "  <thead>\n",
       "    <tr style=\"text-align: right;\">\n",
       "      <th></th>\n",
       "      <th>Condition</th>\n",
       "      <th>Number</th>\n",
       "      <th>Price</th>\n",
       "    </tr>\n",
       "  </thead>\n",
       "  <tbody>\n",
       "    <tr>\n",
       "      <th>0</th>\n",
       "      <td>NYOP</td>\n",
       "      <td>1</td>\n",
       "      <td>1.00</td>\n",
       "    </tr>\n",
       "    <tr>\n",
       "      <th>1</th>\n",
       "      <td>NYOP</td>\n",
       "      <td>1</td>\n",
       "      <td>1.00</td>\n",
       "    </tr>\n",
       "    <tr>\n",
       "      <th>2</th>\n",
       "      <td>NYOP</td>\n",
       "      <td>1</td>\n",
       "      <td>0.01</td>\n",
       "    </tr>\n",
       "    <tr>\n",
       "      <th>3</th>\n",
       "      <td>NYOP</td>\n",
       "      <td>1</td>\n",
       "      <td>0.10</td>\n",
       "    </tr>\n",
       "    <tr>\n",
       "      <th>4</th>\n",
       "      <td>NYOP</td>\n",
       "      <td>1</td>\n",
       "      <td>0.01</td>\n",
       "    </tr>\n",
       "  </tbody>\n",
       "</table>\n",
       "</div>"
      ],
      "text/plain": [
       "  Condition  Number  Price\n",
       "0      NYOP       1   1.00\n",
       "1      NYOP       1   1.00\n",
       "2      NYOP       1   0.01\n",
       "3      NYOP       1   0.10\n",
       "4      NYOP       1   0.01"
      ]
     },
     "execution_count": 317,
     "metadata": {},
     "output_type": "execute_result"
    }
   ],
   "source": [
    "nyop_dat.head()"
   ]
  },
  {
   "cell_type": "code",
   "execution_count": 318,
   "metadata": {},
   "outputs": [
    {
     "data": {
      "text/html": [
       "<div>\n",
       "<style scoped>\n",
       "    .dataframe tbody tr th:only-of-type {\n",
       "        vertical-align: middle;\n",
       "    }\n",
       "\n",
       "    .dataframe tbody tr th {\n",
       "        vertical-align: top;\n",
       "    }\n",
       "\n",
       "    .dataframe thead th {\n",
       "        text-align: right;\n",
       "    }\n",
       "</style>\n",
       "<table border=\"1\" class=\"dataframe\">\n",
       "  <thead>\n",
       "    <tr style=\"text-align: right;\">\n",
       "      <th></th>\n",
       "      <th>Condition</th>\n",
       "      <th>Number</th>\n",
       "      <th>Price</th>\n",
       "      <th>UnitPrice</th>\n",
       "    </tr>\n",
       "  </thead>\n",
       "  <tbody>\n",
       "    <tr>\n",
       "      <th>0</th>\n",
       "      <td>NYOP</td>\n",
       "      <td>1</td>\n",
       "      <td>1.00</td>\n",
       "      <td>1.00</td>\n",
       "    </tr>\n",
       "    <tr>\n",
       "      <th>1</th>\n",
       "      <td>NYOP</td>\n",
       "      <td>1</td>\n",
       "      <td>1.00</td>\n",
       "      <td>1.00</td>\n",
       "    </tr>\n",
       "    <tr>\n",
       "      <th>2</th>\n",
       "      <td>NYOP</td>\n",
       "      <td>1</td>\n",
       "      <td>0.01</td>\n",
       "      <td>0.01</td>\n",
       "    </tr>\n",
       "    <tr>\n",
       "      <th>3</th>\n",
       "      <td>NYOP</td>\n",
       "      <td>1</td>\n",
       "      <td>0.10</td>\n",
       "      <td>0.10</td>\n",
       "    </tr>\n",
       "    <tr>\n",
       "      <th>4</th>\n",
       "      <td>NYOP</td>\n",
       "      <td>1</td>\n",
       "      <td>0.01</td>\n",
       "      <td>0.01</td>\n",
       "    </tr>\n",
       "  </tbody>\n",
       "</table>\n",
       "</div>"
      ],
      "text/plain": [
       "  Condition  Number  Price  UnitPrice\n",
       "0      NYOP       1   1.00       1.00\n",
       "1      NYOP       1   1.00       1.00\n",
       "2      NYOP       1   0.01       0.01\n",
       "3      NYOP       1   0.10       0.10\n",
       "4      NYOP       1   0.01       0.01"
      ]
     },
     "execution_count": 318,
     "metadata": {},
     "output_type": "execute_result"
    }
   ],
   "source": [
    "nyop_dat['UnitPrice'] = nyop_dat['Price'] / nyop_dat['Number']\n",
    "nyop_dat.head()"
   ]
  },
  {
   "cell_type": "code",
   "execution_count": 319,
   "metadata": {},
   "outputs": [],
   "source": [
    "nyop_dat['Number'] = pd.Categorical(nyop_dat['Number'])"
   ]
  },
  {
   "cell_type": "code",
   "execution_count": 320,
   "metadata": {},
   "outputs": [
    {
     "data": {
      "image/png": "[encoded data removed]",
      "text/plain": [
       "<Figure size 640x480 with 1 Axes>"
      ]
     },
     "metadata": {},
     "output_type": "display_data"
    }
   ],
   "source": [
    "nyop_dat.boxplot(column='Price',by='Number')\n",
    "plt.show()"
   ]
  },
  {
   "cell_type": "code",
   "execution_count": 321,
   "metadata": {},
   "outputs": [
    {
     "data": {
      "image/png": "[encoded data removed]",
      "text/plain": [
       "<Figure size 640x480 with 1 Axes>"
      ]
     },
     "metadata": {},
     "output_type": "display_data"
    }
   ],
   "source": [
    "nyop_dat.boxplot(column='UnitPrice',by='Number')\n",
    "plt.show()"
   ]
  },
  {
   "cell_type": "code",
   "execution_count": 322,
   "metadata": {},
   "outputs": [
    {
     "data": {
      "text/plain": [
       "Condition\n",
       "NYOP            1.040439\n",
       "NYOP Charity    5.680480\n",
       "Name: UnitPrice, dtype: float64"
      ]
     },
     "execution_count": 322,
     "metadata": {},
     "output_type": "execute_result"
    }
   ],
   "source": [
    "avg_unit_price = nyop_dat.groupby('Condition')['UnitPrice'].mean()\n",
    "avg_unit_price"
   ]
  },
  {
   "cell_type": "markdown",
   "metadata": {},
   "source": [
    "$$\n",
    "H_0: UnitPrice_{\\text{NYOP}} = UnitPrice_{\\text{NYOP Charity}} \\\\\n",
    "H_a: UnitPrice_{\\text{NYOP}} \\ne UnitPrice_{\\text{NYOP Charity}}\n",
    "$$"
   ]
  },
  {
   "cell_type": "code",
   "execution_count": 323,
   "metadata": {},
   "outputs": [],
   "source": [
    "import pyrsm as rsm"
   ]
  },
  {
   "cell_type": "code",
   "execution_count": 324,
   "metadata": {},
   "outputs": [
    {
     "name": "stdout",
     "output_type": "stream",
     "text": [
      "Pairwise mean comparisons (t-test)\n",
      "Data      : NYOP\n",
      "Variables : Condition, UnitPrice\n",
      "Samples   : independent\n",
      "Confidence: 0.95\n",
      "Adjustment: None\n",
      "   Condition  mean    n  n_missing    sd    se    me\n",
      "        NYOP  1.04 1641          0 1.305 0.032 0.063\n",
      "NYOP Charity  5.68 1457          0 4.670 0.122 0.240\n",
      "          Null hyp.                      Alt. hyp.  diff p.value    \n",
      "NYOP = NYOP Charity NYOP not equal to NYOP Charity -4.64  < .001 ***\n",
      "\n",
      "Signif. codes:  0 '***' 0.001 '**' 0.01 '*' 0.05 '.' 0.1 ' ' 1\n"
     ]
    }
   ],
   "source": [
    "cm = rsm.basics.compare_means({'NYOP': nyop_dat}, var1='Condition', var2='UnitPrice', alt_hyp='two-sided')\n",
    "cm.summary()"
   ]
  },
  {
   "cell_type": "code",
   "execution_count": 325,
   "metadata": {},
   "outputs": [],
   "source": [
    "one_pic = nyop_dat[nyop_dat['Number'] == 1]\n",
    "six_pic = nyop_dat[nyop_dat['Number'] == 6]"
   ]
  },
  {
   "cell_type": "code",
   "execution_count": 326,
   "metadata": {},
   "outputs": [
    {
     "name": "stdout",
     "output_type": "stream",
     "text": [
      "Pairwise mean comparisons (t-test)\n",
      "Data      : one_pic\n",
      "Variables : Condition, UnitPrice\n",
      "Samples   : independent\n",
      "Confidence: 0.95\n",
      "Adjustment: None\n",
      "   Condition  mean    n  n_missing    sd    se    me\n",
      "        NYOP 1.177 1162          0 1.432 0.042 0.082\n",
      "NYOP Charity 5.941 1203          0 4.830 0.139 0.273\n",
      "          Null hyp.                      Alt. hyp.   diff p.value    \n",
      "NYOP = NYOP Charity NYOP not equal to NYOP Charity -4.765  < .001 ***\n",
      "\n",
      "Signif. codes:  0 '***' 0.001 '**' 0.01 '*' 0.05 '.' 0.1 ' ' 1\n"
     ]
    }
   ],
   "source": [
    "cm2 = rsm.basics.compare_means({'one_pic': one_pic}, var1='Condition', var2='UnitPrice', alt_hyp='two-sided')\n",
    "cm2.summary()"
   ]
  },
  {
   "cell_type": "code",
   "execution_count": 327,
   "metadata": {},
   "outputs": [
    {
     "name": "stdout",
     "output_type": "stream",
     "text": [
      "Pairwise mean comparisons (t-test)\n",
      "Data      : six_pic\n",
      "Variables : Condition, UnitPrice\n",
      "Samples   : independent\n",
      "Confidence: 0.95\n",
      "Adjustment: None\n",
      "   Condition  mean  n  n_missing    sd    se    me\n",
      "        NYOP 0.495  6          0 0.615 0.251 0.646\n",
      "NYOP Charity 1.970  3          0 1.795 1.036 4.459\n",
      "          Null hyp.                      Alt. hyp.   diff p.value  \n",
      "NYOP = NYOP Charity NYOP not equal to NYOP Charity -1.475   0.288  \n",
      "\n",
      "Signif. codes:  0 '***' 0.001 '**' 0.01 '*' 0.05 '.' 0.1 ' ' 1\n"
     ]
    }
   ],
   "source": [
    "cm3 = rsm.basics.compare_means({'six_pic': six_pic}, var1='Condition', var2='UnitPrice', alt_hyp='two-sided')\n",
    "cm3.summary()"
   ]
  },
  {
   "cell_type": "code",
   "execution_count": 328,
   "metadata": {},
   "outputs": [
    {
     "data": {
      "text/html": [
       "<div>\n",
       "<style scoped>\n",
       "    .dataframe tbody tr th:only-of-type {\n",
       "        vertical-align: middle;\n",
       "    }\n",
       "\n",
       "    .dataframe tbody tr th {\n",
       "        vertical-align: top;\n",
       "    }\n",
       "\n",
       "    .dataframe thead th {\n",
       "        text-align: right;\n",
       "    }\n",
       "</style>\n",
       "<table border=\"1\" class=\"dataframe\">\n",
       "  <thead>\n",
       "    <tr style=\"text-align: right;\">\n",
       "      <th></th>\n",
       "      <th>Condition</th>\n",
       "      <th>Number</th>\n",
       "      <th>Price</th>\n",
       "      <th>UnitPrice</th>\n",
       "    </tr>\n",
       "  </thead>\n",
       "  <tbody>\n",
       "    <tr>\n",
       "      <th>296</th>\n",
       "      <td>NYOP</td>\n",
       "      <td>6</td>\n",
       "      <td>0.06</td>\n",
       "      <td>0.01</td>\n",
       "    </tr>\n",
       "    <tr>\n",
       "      <th>356</th>\n",
       "      <td>NYOP</td>\n",
       "      <td>6</td>\n",
       "      <td>6.00</td>\n",
       "      <td>1.00</td>\n",
       "    </tr>\n",
       "    <tr>\n",
       "      <th>382</th>\n",
       "      <td>NYOP</td>\n",
       "      <td>6</td>\n",
       "      <td>0.90</td>\n",
       "      <td>0.15</td>\n",
       "    </tr>\n",
       "    <tr>\n",
       "      <th>623</th>\n",
       "      <td>NYOP</td>\n",
       "      <td>6</td>\n",
       "      <td>0.06</td>\n",
       "      <td>0.01</td>\n",
       "    </tr>\n",
       "    <tr>\n",
       "      <th>1445</th>\n",
       "      <td>NYOP</td>\n",
       "      <td>6</td>\n",
       "      <td>9.00</td>\n",
       "      <td>1.50</td>\n",
       "    </tr>\n",
       "    <tr>\n",
       "      <th>1632</th>\n",
       "      <td>NYOP</td>\n",
       "      <td>6</td>\n",
       "      <td>1.80</td>\n",
       "      <td>0.30</td>\n",
       "    </tr>\n",
       "    <tr>\n",
       "      <th>2384</th>\n",
       "      <td>NYOP Charity</td>\n",
       "      <td>6</td>\n",
       "      <td>0.96</td>\n",
       "      <td>0.16</td>\n",
       "    </tr>\n",
       "    <tr>\n",
       "      <th>2462</th>\n",
       "      <td>NYOP Charity</td>\n",
       "      <td>6</td>\n",
       "      <td>22.50</td>\n",
       "      <td>3.75</td>\n",
       "    </tr>\n",
       "    <tr>\n",
       "      <th>2996</th>\n",
       "      <td>NYOP Charity</td>\n",
       "      <td>6</td>\n",
       "      <td>12.00</td>\n",
       "      <td>2.00</td>\n",
       "    </tr>\n",
       "  </tbody>\n",
       "</table>\n",
       "</div>"
      ],
      "text/plain": [
       "         Condition Number  Price  UnitPrice\n",
       "296           NYOP      6   0.06       0.01\n",
       "356           NYOP      6   6.00       1.00\n",
       "382           NYOP      6   0.90       0.15\n",
       "623           NYOP      6   0.06       0.01\n",
       "1445          NYOP      6   9.00       1.50\n",
       "1632          NYOP      6   1.80       0.30\n",
       "2384  NYOP Charity      6   0.96       0.16\n",
       "2462  NYOP Charity      6  22.50       3.75\n",
       "2996  NYOP Charity      6  12.00       2.00"
      ]
     },
     "execution_count": 328,
     "metadata": {},
     "output_type": "execute_result"
    }
   ],
   "source": [
    "six_pic"
   ]
  },
  {
   "cell_type": "code",
   "execution_count": 329,
   "metadata": {},
   "outputs": [],
   "source": [
    "six_nyop = six_pic[six_pic['Condition'] == 'NYOP']['UnitPrice']\n",
    "six_char = six_pic[six_pic['Condition'] == 'NYOP Charity']['UnitPrice']"
   ]
  },
  {
   "cell_type": "code",
   "execution_count": 330,
   "metadata": {},
   "outputs": [],
   "source": [
    "from scipy.stats import t"
   ]
  },
  {
   "cell_type": "code",
   "execution_count": 331,
   "metadata": {},
   "outputs": [],
   "source": [
    "xbar_1 = six_nyop.mean()\n",
    "xbar_2 = six_char.mean()\n",
    "s1 = six_nyop.std(ddof=1)\n",
    "s2 = six_char.std(ddof=1)\n",
    "n1 = len(six_nyop)\n",
    "n2 = len(six_char)\n",
    "dof = n1 + n2 - 2"
   ]
  },
  {
   "cell_type": "code",
   "execution_count": 332,
   "metadata": {},
   "outputs": [],
   "source": [
    "SE = np.sqrt(s1**2 / n1 + s2**2 / n2)"
   ]
  },
  {
   "cell_type": "code",
   "execution_count": 333,
   "metadata": {},
   "outputs": [
    {
     "data": {
      "text/plain": [
       "-1.3830917803702296"
      ]
     },
     "execution_count": 333,
     "metadata": {},
     "output_type": "execute_result"
    }
   ],
   "source": [
    "t_val = (xbar_1 - xbar_2) / SE\n",
    "t_val"
   ]
  },
  {
   "cell_type": "code",
   "execution_count": 334,
   "metadata": {},
   "outputs": [
    {
     "data": {
      "text/plain": [
       "0.20914250151882574"
      ]
     },
     "execution_count": 334,
     "metadata": {},
     "output_type": "execute_result"
    }
   ],
   "source": [
    "pval = (1 - t.cdf(abs(t_val), df=dof)) * 2\n",
    "pval"
   ]
  },
  {
   "cell_type": "markdown",
   "metadata": {},
   "source": [
    "# Economics"
   ]
  },
  {
   "cell_type": "code",
   "execution_count": 335,
   "metadata": {},
   "outputs": [
    {
     "data": {
      "text/html": [
       "<div>\n",
       "<style scoped>\n",
       "    .dataframe tbody tr th:only-of-type {\n",
       "        vertical-align: middle;\n",
       "    }\n",
       "\n",
       "    .dataframe tbody tr th {\n",
       "        vertical-align: top;\n",
       "    }\n",
       "\n",
       "    .dataframe thead th {\n",
       "        text-align: right;\n",
       "    }\n",
       "</style>\n",
       "<table border=\"1\" class=\"dataframe\">\n",
       "  <thead>\n",
       "    <tr style=\"text-align: right;\">\n",
       "      <th></th>\n",
       "      <th>Condition</th>\n",
       "      <th>NumberSold</th>\n",
       "      <th>Riders</th>\n",
       "      <th>MerchandiseRevenues</th>\n",
       "    </tr>\n",
       "  </thead>\n",
       "  <tbody>\n",
       "    <tr>\n",
       "      <th>0</th>\n",
       "      <td>FR</td>\n",
       "      <td>77</td>\n",
       "      <td>12663</td>\n",
       "      <td>4592.41</td>\n",
       "    </tr>\n",
       "    <tr>\n",
       "      <th>1</th>\n",
       "      <td>FR</td>\n",
       "      <td>63</td>\n",
       "      <td>15561</td>\n",
       "      <td>6688.57</td>\n",
       "    </tr>\n",
       "    <tr>\n",
       "      <th>2</th>\n",
       "      <td>FR Charity</td>\n",
       "      <td>79</td>\n",
       "      <td>14796</td>\n",
       "      <td>6476.78</td>\n",
       "    </tr>\n",
       "    <tr>\n",
       "      <th>3</th>\n",
       "      <td>FR Charity</td>\n",
       "      <td>101</td>\n",
       "      <td>15796</td>\n",
       "      <td>5845.94</td>\n",
       "    </tr>\n",
       "    <tr>\n",
       "      <th>4</th>\n",
       "      <td>NYOP</td>\n",
       "      <td>1137</td>\n",
       "      <td>14077</td>\n",
       "      <td>4845.27</td>\n",
       "    </tr>\n",
       "    <tr>\n",
       "      <th>5</th>\n",
       "      <td>NYOP</td>\n",
       "      <td>1233</td>\n",
       "      <td>14186</td>\n",
       "      <td>7038.63</td>\n",
       "    </tr>\n",
       "    <tr>\n",
       "      <th>6</th>\n",
       "      <td>NYOP Charity</td>\n",
       "      <td>539</td>\n",
       "      <td>12227</td>\n",
       "      <td>5690.59</td>\n",
       "    </tr>\n",
       "    <tr>\n",
       "      <th>7</th>\n",
       "      <td>NYOP Charity</td>\n",
       "      <td>628</td>\n",
       "      <td>13741</td>\n",
       "      <td>6003.44</td>\n",
       "    </tr>\n",
       "    <tr>\n",
       "      <th>8</th>\n",
       "      <td>NYOP Charity</td>\n",
       "      <td>626</td>\n",
       "      <td>18117</td>\n",
       "      <td>8557.47</td>\n",
       "    </tr>\n",
       "  </tbody>\n",
       "</table>\n",
       "</div>"
      ],
      "text/plain": [
       "      Condition  NumberSold  Riders  MerchandiseRevenues\n",
       "0            FR          77   12663              4592.41\n",
       "1            FR          63   15561              6688.57\n",
       "2    FR Charity          79   14796              6476.78\n",
       "3    FR Charity         101   15796              5845.94\n",
       "4          NYOP        1137   14077              4845.27\n",
       "5          NYOP        1233   14186              7038.63\n",
       "6  NYOP Charity         539   12227              5690.59\n",
       "7  NYOP Charity         628   13741              6003.44\n",
       "8  NYOP Charity         626   18117              8557.47"
      ]
     },
     "execution_count": 335,
     "metadata": {},
     "output_type": "execute_result"
    }
   ],
   "source": [
    "sales_dat"
   ]
  },
  {
   "cell_type": "code",
   "execution_count": 336,
   "metadata": {},
   "outputs": [],
   "source": [
    "fr_data = sales_dat[(sales_dat['Condition'] == 'FR') | (sales_dat['Condition'] == 'FR Charity')].copy()\n",
    "fr_data['cogs'] = fr_data['NumberSold'] * 1.2\n",
    "fr_data['revenues'] = fr_data['NumberSold'] * 12.95\n",
    "fr_data.loc[fr_data['Condition'] == 'FR Charity', 'revenues'] = fr_data.loc[fr_data['Condition'] == 'FR Charity', 'revenues'] * 0.5\n",
    "fr_data['profit'] = fr_data['revenues'] - fr_data['cogs']"
   ]
  },
  {
   "cell_type": "code",
   "execution_count": 337,
   "metadata": {},
   "outputs": [
    {
     "data": {
      "text/plain": [
       "Condition\n",
       "FR            822.50\n",
       "FR Charity    474.75\n",
       "Name: profit, dtype: float64"
      ]
     },
     "execution_count": 337,
     "metadata": {},
     "output_type": "execute_result"
    }
   ],
   "source": [
    "fr_avg_profit = fr_data.groupby('Condition')['profit'].mean()\n",
    "fr_avg_profit"
   ]
  },
  {
   "cell_type": "code",
   "execution_count": 338,
   "metadata": {},
   "outputs": [
    {
     "data": {
      "text/html": [
       "<div>\n",
       "<style scoped>\n",
       "    .dataframe tbody tr th:only-of-type {\n",
       "        vertical-align: middle;\n",
       "    }\n",
       "\n",
       "    .dataframe tbody tr th {\n",
       "        vertical-align: top;\n",
       "    }\n",
       "\n",
       "    .dataframe thead th {\n",
       "        text-align: right;\n",
       "    }\n",
       "</style>\n",
       "<table border=\"1\" class=\"dataframe\">\n",
       "  <thead>\n",
       "    <tr style=\"text-align: right;\">\n",
       "      <th></th>\n",
       "      <th>Condition</th>\n",
       "      <th>Number</th>\n",
       "      <th>Price</th>\n",
       "      <th>UnitPrice</th>\n",
       "    </tr>\n",
       "  </thead>\n",
       "  <tbody>\n",
       "    <tr>\n",
       "      <th>0</th>\n",
       "      <td>NYOP</td>\n",
       "      <td>1</td>\n",
       "      <td>1.00</td>\n",
       "      <td>1.00</td>\n",
       "    </tr>\n",
       "    <tr>\n",
       "      <th>1</th>\n",
       "      <td>NYOP</td>\n",
       "      <td>1</td>\n",
       "      <td>1.00</td>\n",
       "      <td>1.00</td>\n",
       "    </tr>\n",
       "    <tr>\n",
       "      <th>2</th>\n",
       "      <td>NYOP</td>\n",
       "      <td>1</td>\n",
       "      <td>0.01</td>\n",
       "      <td>0.01</td>\n",
       "    </tr>\n",
       "    <tr>\n",
       "      <th>3</th>\n",
       "      <td>NYOP</td>\n",
       "      <td>1</td>\n",
       "      <td>0.10</td>\n",
       "      <td>0.10</td>\n",
       "    </tr>\n",
       "    <tr>\n",
       "      <th>4</th>\n",
       "      <td>NYOP</td>\n",
       "      <td>1</td>\n",
       "      <td>0.01</td>\n",
       "      <td>0.01</td>\n",
       "    </tr>\n",
       "    <tr>\n",
       "      <th>...</th>\n",
       "      <td>...</td>\n",
       "      <td>...</td>\n",
       "      <td>...</td>\n",
       "      <td>...</td>\n",
       "    </tr>\n",
       "    <tr>\n",
       "      <th>3093</th>\n",
       "      <td>NYOP Charity</td>\n",
       "      <td>1</td>\n",
       "      <td>9.38</td>\n",
       "      <td>9.38</td>\n",
       "    </tr>\n",
       "    <tr>\n",
       "      <th>3094</th>\n",
       "      <td>NYOP Charity</td>\n",
       "      <td>1</td>\n",
       "      <td>1.00</td>\n",
       "      <td>1.00</td>\n",
       "    </tr>\n",
       "    <tr>\n",
       "      <th>3095</th>\n",
       "      <td>NYOP Charity</td>\n",
       "      <td>1</td>\n",
       "      <td>0.93</td>\n",
       "      <td>0.93</td>\n",
       "    </tr>\n",
       "    <tr>\n",
       "      <th>3096</th>\n",
       "      <td>NYOP Charity</td>\n",
       "      <td>1</td>\n",
       "      <td>9.38</td>\n",
       "      <td>9.38</td>\n",
       "    </tr>\n",
       "    <tr>\n",
       "      <th>3097</th>\n",
       "      <td>NYOP Charity</td>\n",
       "      <td>1</td>\n",
       "      <td>1.87</td>\n",
       "      <td>1.87</td>\n",
       "    </tr>\n",
       "  </tbody>\n",
       "</table>\n",
       "<p>3098 rows × 4 columns</p>\n",
       "</div>"
      ],
      "text/plain": [
       "         Condition Number  Price  UnitPrice\n",
       "0             NYOP      1   1.00       1.00\n",
       "1             NYOP      1   1.00       1.00\n",
       "2             NYOP      1   0.01       0.01\n",
       "3             NYOP      1   0.10       0.10\n",
       "4             NYOP      1   0.01       0.01\n",
       "...            ...    ...    ...        ...\n",
       "3093  NYOP Charity      1   9.38       9.38\n",
       "3094  NYOP Charity      1   1.00       1.00\n",
       "3095  NYOP Charity      1   0.93       0.93\n",
       "3096  NYOP Charity      1   9.38       9.38\n",
       "3097  NYOP Charity      1   1.87       1.87\n",
       "\n",
       "[3098 rows x 4 columns]"
      ]
     },
     "execution_count": 338,
     "metadata": {},
     "output_type": "execute_result"
    }
   ],
   "source": [
    "nyop_dat"
   ]
  },
  {
   "cell_type": "code",
   "execution_count": 339,
   "metadata": {},
   "outputs": [
    {
     "data": {
      "text/plain": [
       "4163"
      ]
     },
     "execution_count": 339,
     "metadata": {},
     "output_type": "execute_result"
    }
   ],
   "source": [
    "nyop_dat['Number'] = pd.to_numeric(nyop_dat['Number'])\n",
    "nyop_dat['Number'].sum()"
   ]
  },
  {
   "cell_type": "code",
   "execution_count": 340,
   "metadata": {},
   "outputs": [
    {
     "name": "stdout",
     "output_type": "stream",
     "text": [
      "Condition\n",
      "NYOP            0.402815\n",
      "NYOP Charity    2.947986\n",
      "Name: profit, dtype: float64\n"
     ]
    }
   ],
   "source": [
    "nyop_dat = nyop_dat[(nyop_dat['Condition'] == 'NYOP') | (nyop_dat['Condition'] == 'NYOP Charity')].copy()\n",
    "nyop_dat['cogs'] = nyop_dat['Number'] * 1.2\n",
    "nyop_dat['revenues'] = nyop_dat['Price'] * nyop_dat['Number']\n",
    "nyop_dat.loc[nyop_dat['Condition'] == 'NYOP Charity', 'revenues'] = nyop_dat.loc[nyop_dat['Condition'] == 'NYOP Charity', 'revenues'] * 0.5\n",
    "nyop_dat['profit'] = nyop_dat['revenues'] - nyop_dat['cogs']\n",
    "nyop_avg_profit = nyop_dat.groupby('Condition')['profit'].mean()\n",
    "print(nyop_avg_profit)"
   ]
  },
  {
   "cell_type": "code",
   "execution_count": 341,
   "metadata": {},
   "outputs": [
    {
     "name": "stdout",
     "output_type": "stream",
     "text": [
      "Condition\n",
      "FR              822.500000\n",
      "FR Charity      474.750000\n",
      "NYOP Charity      2.947986\n",
      "NYOP              0.402815\n",
      "Name: profit, dtype: float64\n"
     ]
    }
   ],
   "source": [
    "combine_data = pd.concat([fr_data[['Condition', 'profit']], nyop_dat[['Condition', 'profit']]])\n",
    "avg_profit_per_strategy = combine_data.groupby('Condition')['profit'].mean()\n",
    "ranked_strategies = avg_profit_per_strategy.sort_values(ascending=False)\n",
    "print(ranked_strategies)"
   ]
  },
  {
   "cell_type": "code",
   "execution_count": 342,
   "metadata": {},
   "outputs": [],
   "source": [
    "fr_data['charity_share'] = 0\n",
    "nyop_dat['charity_share'] = 0"
   ]
  },
  {
   "cell_type": "code",
   "execution_count": 343,
   "metadata": {},
   "outputs": [
    {
     "name": "stderr",
     "output_type": "stream",
     "text": [
      "/tmp/ipykernel_9372/3693846907.py:1: FutureWarning: Setting an item of incompatible dtype is deprecated and will raise an error in a future version of pandas. Value '[255.7625 326.9875]' has dtype incompatible with int64, please explicitly cast to a compatible dtype first.\n",
      "  fr_data.loc[fr_data['Condition'] == 'FR Charity', 'charity_share'] = fr_data['revenues'] * 0.5\n",
      "/tmp/ipykernel_9372/3693846907.py:2: FutureWarning: Setting an item of incompatible dtype is deprecated and will raise an error in a future version of pandas. Value '[1.75   1.875  2.5    ... 0.2325 2.345  0.4675]' has dtype incompatible with int64, please explicitly cast to a compatible dtype first.\n",
      "  nyop_dat.loc[nyop_dat['Condition'] == 'NYOP Charity', 'charity_share'] = nyop_dat['revenues'] * 0.5\n"
     ]
    }
   ],
   "source": [
    "fr_data.loc[fr_data['Condition'] == 'FR Charity', 'charity_share'] = fr_data['revenues'] * 0.5\n",
    "nyop_dat.loc[nyop_dat['Condition'] == 'NYOP Charity', 'charity_share'] = nyop_dat['revenues'] * 0.5\n",
    "fr_data['societal_profit'] = fr_data['profit'] + fr_data['charity_share']\n",
    "nyop_dat['societal_profit'] = nyop_dat['profit'] + nyop_dat['charity_share']\n",
    "combined_data_societal = pd.concat([fr_data[['Condition', 'societal_profit']], nyop_dat[['Condition', 'societal_profit']]])\n",
    "\n"
   ]
  },
  {
   "cell_type": "code",
   "execution_count": 344,
   "metadata": {},
   "outputs": [
    {
     "name": "stdout",
     "output_type": "stream",
     "text": [
      "Condition\n",
      "FR              822.500000\n",
      "FR Charity      766.125000\n",
      "NYOP Charity      5.160345\n",
      "NYOP              0.402815\n",
      "Name: societal_profit, dtype: float64\n"
     ]
    }
   ],
   "source": [
    "avg_societal_profit_per_strategy = combined_data_societal.groupby('Condition')['societal_profit'].mean()\n",
    "ranked_societal_strategies = avg_societal_profit_per_strategy.sort_values(ascending=False)\n",
    "print(ranked_societal_strategies)"
   ]
  },
  {
   "cell_type": "code",
   "execution_count": 345,
   "metadata": {},
   "outputs": [
    {
     "name": "stdout",
     "output_type": "stream",
     "text": [
      "Additional yearly profit generated by the leading strategy compared to the other three: Condition\n",
      "FR Charity       20576.875000\n",
      "NYOP Charity    298328.974116\n",
      "NYOP            300065.472395\n",
      "Name: societal_profit, dtype: float64\n"
     ]
    }
   ],
   "source": [
    "leading_profit = ranked_societal_strategies.iloc[0]\n",
    "other_profit = ranked_societal_strategies.iloc[1:4]\n",
    "additional_daily_profit = leading_profit - other_profit\n",
    "additional_yearly_profit = additional_daily_profit * 365\n",
    "print(f\"Additional yearly profit generated by the leading strategy compared to the other three: {additional_yearly_profit}\")"
   ]
  },
  {
   "cell_type": "code",
   "execution_count": 346,
   "metadata": {},
   "outputs": [
    {
     "data": {
      "text/plain": [
       "55739.1"
      ]
     },
     "execution_count": 346,
     "metadata": {},
     "output_type": "execute_result"
    }
   ],
   "source": [
    "total_merch_revenue = sales_dat['MerchandiseRevenues'].sum()\n",
    "total_merch_revenue"
   ]
  },
  {
   "cell_type": "code",
   "execution_count": 347,
   "metadata": {},
   "outputs": [
    {
     "data": {
      "text/plain": [
       "131164"
      ]
     },
     "execution_count": 347,
     "metadata": {},
     "output_type": "execute_result"
    }
   ],
   "source": [
    "total_riders = sales_dat['Riders'].sum()\n",
    "total_riders"
   ]
  },
  {
   "cell_type": "code",
   "execution_count": 348,
   "metadata": {},
   "outputs": [
    {
     "data": {
      "text/plain": [
       "0.42495730535817755"
      ]
     },
     "execution_count": 348,
     "metadata": {},
     "output_type": "execute_result"
    }
   ],
   "source": [
    "avg_merch_revenue_per_rider = total_merch_revenue / total_riders\n",
    "avg_merch_revenue_per_rider"
   ]
  }
 ],
 "metadata": {
  "kernelspec": {
   "display_name": "base",
   "language": "python",
   "name": "python3"
  },
  "language_info": {
   "codemirror_mode": {
    "name": "ipython",
    "version": 3
   },
   "file_extension": ".py",
   "mimetype": "text/x-python",
   "name": "python",
   "nbconvert_exporter": "python",
   "pygments_lexer": "ipython3",
   "version": "3.11.9"
  }
 },
 "nbformat": 4,
 "nbformat_minor": 2
}
