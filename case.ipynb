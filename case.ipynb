{
 "cells": [
  {
   "cell_type": "code",
   "execution_count": 1,
   "metadata": {},
   "outputs": [],
   "source": [
    "import numpy as np\n",
    "import pandas as pd\n",
    "from scipy.stats import norm\n",
    "\n",
    "import matplotlib.pyplot as plt"
   ]
  },
  {
   "cell_type": "code",
   "execution_count": 2,
   "metadata": {},
   "outputs": [],
   "source": [
    "sales_dat = pd.read_csv('Sales.csv')\n",
    "nyop_dat = pd.read_csv('NYOP.csv')"
   ]
  },
  {
   "cell_type": "code",
   "execution_count": 3,
   "metadata": {},
   "outputs": [
    {
     "data": {
      "text/html": [
       "<div>\n",
       "<style scoped>\n",
       "    .dataframe tbody tr th:only-of-type {\n",
       "        vertical-align: middle;\n",
       "    }\n",
       "\n",
       "    .dataframe tbody tr th {\n",
       "        vertical-align: top;\n",
       "    }\n",
       "\n",
       "    .dataframe thead th {\n",
       "        text-align: right;\n",
       "    }\n",
       "</style>\n",
       "<table border=\"1\" class=\"dataframe\">\n",
       "  <thead>\n",
       "    <tr style=\"text-align: right;\">\n",
       "      <th></th>\n",
       "      <th>Condition</th>\n",
       "      <th>NumberSold</th>\n",
       "      <th>Riders</th>\n",
       "      <th>MerchandiseRevenues</th>\n",
       "    </tr>\n",
       "  </thead>\n",
       "  <tbody>\n",
       "    <tr>\n",
       "      <th>0</th>\n",
       "      <td>FR</td>\n",
       "      <td>77</td>\n",
       "      <td>12663</td>\n",
       "      <td>4592.41</td>\n",
       "    </tr>\n",
       "    <tr>\n",
       "      <th>1</th>\n",
       "      <td>FR</td>\n",
       "      <td>63</td>\n",
       "      <td>15561</td>\n",
       "      <td>6688.57</td>\n",
       "    </tr>\n",
       "    <tr>\n",
       "      <th>2</th>\n",
       "      <td>FR Charity</td>\n",
       "      <td>79</td>\n",
       "      <td>14796</td>\n",
       "      <td>6476.78</td>\n",
       "    </tr>\n",
       "    <tr>\n",
       "      <th>3</th>\n",
       "      <td>FR Charity</td>\n",
       "      <td>101</td>\n",
       "      <td>15796</td>\n",
       "      <td>5845.94</td>\n",
       "    </tr>\n",
       "    <tr>\n",
       "      <th>4</th>\n",
       "      <td>NYOP</td>\n",
       "      <td>1137</td>\n",
       "      <td>14077</td>\n",
       "      <td>4845.27</td>\n",
       "    </tr>\n",
       "  </tbody>\n",
       "</table>\n",
       "</div>"
      ],
      "text/plain": [
       "    Condition  NumberSold  Riders  MerchandiseRevenues\n",
       "0          FR          77   12663              4592.41\n",
       "1          FR          63   15561              6688.57\n",
       "2  FR Charity          79   14796              6476.78\n",
       "3  FR Charity         101   15796              5845.94\n",
       "4        NYOP        1137   14077              4845.27"
      ]
     },
     "execution_count": 3,
     "metadata": {},
     "output_type": "execute_result"
    }
   ],
   "source": [
    "sales_dat.head()"
   ]
  },
  {
   "cell_type": "markdown",
   "metadata": {},
   "source": [
    "# Flat Rate Pricing"
   ]
  },
  {
   "cell_type": "markdown",
   "metadata": {},
   "source": [
    "$$\n",
    "H_0: p_1 = p_2 \\\\ \n",
    "H_a: p_1 \\ne p_2\n",
    "$$"
   ]
  },
  {
   "cell_type": "markdown",
   "metadata": {},
   "source": [
    "We are attempting to see difference in proportions between the charity and non charity cases. Under the null, we expect such proportions to be equal, whereas the alternative believes the proportions to be different."
   ]
  },
  {
   "cell_type": "code",
   "execution_count": 4,
   "metadata": {},
   "outputs": [
    {
     "data": {
      "text/plain": [
       "Condition\n",
       "FR            0.004960\n",
       "FR Charity    0.005884\n",
       "dtype: float64"
      ]
     },
     "execution_count": 4,
     "metadata": {},
     "output_type": "execute_result"
    }
   ],
   "source": [
    "flat_rates = sales_dat[(sales_dat['Condition'] == \"FR\") | (sales_dat['Condition'] == \"FR Charity\")]\n",
    "fr_rates = flat_rates.groupby('Condition')['NumberSold'].sum() / flat_rates.groupby('Condition')['Riders'].sum()\n",
    "fr_rates"
   ]
  },
  {
   "cell_type": "code",
   "execution_count": 5,
   "metadata": {},
   "outputs": [
    {
     "data": {
      "text/plain": [
       "Condition\n",
       "FR            28224\n",
       "FR Charity    30592\n",
       "Name: Riders, dtype: int64"
      ]
     },
     "execution_count": 5,
     "metadata": {},
     "output_type": "execute_result"
    }
   ],
   "source": [
    "n_s = flat_rates.groupby('Condition')['Riders'].sum()\n",
    "n_s"
   ]
  },
  {
   "cell_type": "code",
   "execution_count": 6,
   "metadata": {},
   "outputs": [],
   "source": [
    "p1 = fr_rates.iloc[0]\n",
    "p2 = fr_rates.iloc[1]\n",
    "n1 = n_s.iloc[0]\n",
    "n2 = n_s.iloc[1]"
   ]
  },
  {
   "cell_type": "code",
   "execution_count": 7,
   "metadata": {},
   "outputs": [
    {
     "data": {
      "text/plain": [
       "-1.5264554280529021"
      ]
     },
     "execution_count": 7,
     "metadata": {},
     "output_type": "execute_result"
    }
   ],
   "source": [
    "pt1 = p1*(1-p1) / n1\n",
    "pt2 = p2*(1-p2) / n2\n",
    "denom = np.sqrt(pt1 + pt2)\n",
    "\n",
    "test_stat = (p1-p2) / denom # Test statistic Z-score\n",
    "test_stat"
   ]
  },
  {
   "cell_type": "code",
   "execution_count": 8,
   "metadata": {},
   "outputs": [
    {
     "data": {
      "text/plain": [
       "0.12689648269385967"
      ]
     },
     "execution_count": 8,
     "metadata": {},
     "output_type": "execute_result"
    }
   ],
   "source": [
    "2 * (1 - norm.cdf(abs(test_stat))) # P value"
   ]
  },
  {
   "cell_type": "markdown",
   "metadata": {},
   "source": [
    "There is a 12.689 chance that the FR and FR Charity sales values occur under a normal distribution. Hence, as it is over the 5 percent significance level, you will fail to reject the chance that there is no difference between the proportion of purchases. In other words, we see that the given proportions is likely enough to consider under a normal distribution."
   ]
  },
  {
   "cell_type": "markdown",
   "metadata": {},
   "source": [
    "# NYOP Pricing"
   ]
  },
  {
   "cell_type": "code",
   "execution_count": 9,
   "metadata": {},
   "outputs": [
    {
     "data": {
      "text/html": [
       "<div>\n",
       "<style scoped>\n",
       "    .dataframe tbody tr th:only-of-type {\n",
       "        vertical-align: middle;\n",
       "    }\n",
       "\n",
       "    .dataframe tbody tr th {\n",
       "        vertical-align: top;\n",
       "    }\n",
       "\n",
       "    .dataframe thead th {\n",
       "        text-align: right;\n",
       "    }\n",
       "</style>\n",
       "<table border=\"1\" class=\"dataframe\">\n",
       "  <thead>\n",
       "    <tr style=\"text-align: right;\">\n",
       "      <th></th>\n",
       "      <th>Condition</th>\n",
       "      <th>NumberSold</th>\n",
       "      <th>Riders</th>\n",
       "      <th>MerchandiseRevenues</th>\n",
       "    </tr>\n",
       "  </thead>\n",
       "  <tbody>\n",
       "    <tr>\n",
       "      <th>4</th>\n",
       "      <td>NYOP</td>\n",
       "      <td>1137</td>\n",
       "      <td>14077</td>\n",
       "      <td>4845.27</td>\n",
       "    </tr>\n",
       "    <tr>\n",
       "      <th>5</th>\n",
       "      <td>NYOP</td>\n",
       "      <td>1233</td>\n",
       "      <td>14186</td>\n",
       "      <td>7038.63</td>\n",
       "    </tr>\n",
       "    <tr>\n",
       "      <th>6</th>\n",
       "      <td>NYOP Charity</td>\n",
       "      <td>539</td>\n",
       "      <td>12227</td>\n",
       "      <td>5690.59</td>\n",
       "    </tr>\n",
       "    <tr>\n",
       "      <th>7</th>\n",
       "      <td>NYOP Charity</td>\n",
       "      <td>628</td>\n",
       "      <td>13741</td>\n",
       "      <td>6003.44</td>\n",
       "    </tr>\n",
       "    <tr>\n",
       "      <th>8</th>\n",
       "      <td>NYOP Charity</td>\n",
       "      <td>626</td>\n",
       "      <td>18117</td>\n",
       "      <td>8557.47</td>\n",
       "    </tr>\n",
       "  </tbody>\n",
       "</table>\n",
       "</div>"
      ],
      "text/plain": [
       "      Condition  NumberSold  Riders  MerchandiseRevenues\n",
       "4          NYOP        1137   14077              4845.27\n",
       "5          NYOP        1233   14186              7038.63\n",
       "6  NYOP Charity         539   12227              5690.59\n",
       "7  NYOP Charity         628   13741              6003.44\n",
       "8  NYOP Charity         626   18117              8557.47"
      ]
     },
     "execution_count": 9,
     "metadata": {},
     "output_type": "execute_result"
    }
   ],
   "source": [
    "NYOP_sales = sales_dat[(sales_dat['Condition'] == 'NYOP') | (sales_dat['Condition'] == 'NYOP Charity')]\n",
    "NYOP_sales"
   ]
  },
  {
   "cell_type": "code",
   "execution_count": 10,
   "metadata": {},
   "outputs": [
    {
     "data": {
      "text/plain": [
       "Condition\n",
       "NYOP            0.083855\n",
       "NYOP Charity    0.040671\n",
       "dtype: float64"
      ]
     },
     "execution_count": 10,
     "metadata": {},
     "output_type": "execute_result"
    }
   ],
   "source": [
    "NYOP_rates = NYOP_sales.groupby('Condition')['NumberSold'].sum() / NYOP_sales.groupby('Condition')['Riders'].sum()\n",
    "NYOP_rates"
   ]
  },
  {
   "cell_type": "code",
   "execution_count": 11,
   "metadata": {},
   "outputs": [
    {
     "data": {
      "text/plain": [
       "Condition\n",
       "NYOP            28263\n",
       "NYOP Charity    44085\n",
       "Name: Riders, dtype: int64"
      ]
     },
     "execution_count": 11,
     "metadata": {},
     "output_type": "execute_result"
    }
   ],
   "source": [
    "n_s = NYOP_sales.groupby('Condition')['Riders'].sum()\n",
    "n_s"
   ]
  },
  {
   "cell_type": "code",
   "execution_count": 12,
   "metadata": {},
   "outputs": [],
   "source": [
    "p1 = NYOP_rates.iloc[0]\n",
    "p2 = NYOP_rates.iloc[1]\n",
    "n1 = n_s.iloc[0]\n",
    "n2 = n_s.iloc[1]"
   ]
  },
  {
   "cell_type": "code",
   "execution_count": 13,
   "metadata": {},
   "outputs": [
    {
     "data": {
      "text/plain": [
       "22.749707261972425"
      ]
     },
     "execution_count": 13,
     "metadata": {},
     "output_type": "execute_result"
    }
   ],
   "source": [
    "pt1 = p1*(1-p1) / n1\n",
    "pt2 = p2*(1-p2) / n2\n",
    "denom = np.sqrt(pt1 + pt2)\n",
    "\n",
    "test_stat = (p1-p2) / denom\n",
    "test_stat # Z score test stat"
   ]
  },
  {
   "cell_type": "code",
   "execution_count": 14,
   "metadata": {},
   "outputs": [
    {
     "data": {
      "text/plain": [
       "0.0"
      ]
     },
     "execution_count": 14,
     "metadata": {},
     "output_type": "execute_result"
    }
   ],
   "source": [
    "2 * (1 - norm.cdf(abs(test_stat))) # P val"
   ]
  },
  {
   "cell_type": "markdown",
   "metadata": {},
   "source": [
    "There is a 0 percent chance that the NYOP purchase rates occur under a normal distribution. Therefore, you must reject the null hypothesis that there is no difference between the proportion of purchases of the NYOP and NYOP charity. Hence, we must conclude that for the NYOP case, that there is statistical difference between the charity and non charity case."
   ]
  },
  {
   "cell_type": "markdown",
   "metadata": {},
   "source": [
    "# Section 2"
   ]
  },
  {
   "cell_type": "markdown",
   "metadata": {},
   "source": [
    "## Part A"
   ]
  },
  {
   "cell_type": "code",
   "execution_count": 15,
   "metadata": {},
   "outputs": [
    {
     "data": {
      "text/html": [
       "<div>\n",
       "<style scoped>\n",
       "    .dataframe tbody tr th:only-of-type {\n",
       "        vertical-align: middle;\n",
       "    }\n",
       "\n",
       "    .dataframe tbody tr th {\n",
       "        vertical-align: top;\n",
       "    }\n",
       "\n",
       "    .dataframe thead th {\n",
       "        text-align: right;\n",
       "    }\n",
       "</style>\n",
       "<table border=\"1\" class=\"dataframe\">\n",
       "  <thead>\n",
       "    <tr style=\"text-align: right;\">\n",
       "      <th></th>\n",
       "      <th>Condition</th>\n",
       "      <th>Number</th>\n",
       "      <th>Price</th>\n",
       "    </tr>\n",
       "  </thead>\n",
       "  <tbody>\n",
       "    <tr>\n",
       "      <th>0</th>\n",
       "      <td>NYOP</td>\n",
       "      <td>1</td>\n",
       "      <td>1.00</td>\n",
       "    </tr>\n",
       "    <tr>\n",
       "      <th>1</th>\n",
       "      <td>NYOP</td>\n",
       "      <td>1</td>\n",
       "      <td>1.00</td>\n",
       "    </tr>\n",
       "    <tr>\n",
       "      <th>2</th>\n",
       "      <td>NYOP</td>\n",
       "      <td>1</td>\n",
       "      <td>0.01</td>\n",
       "    </tr>\n",
       "    <tr>\n",
       "      <th>3</th>\n",
       "      <td>NYOP</td>\n",
       "      <td>1</td>\n",
       "      <td>0.10</td>\n",
       "    </tr>\n",
       "    <tr>\n",
       "      <th>4</th>\n",
       "      <td>NYOP</td>\n",
       "      <td>1</td>\n",
       "      <td>0.01</td>\n",
       "    </tr>\n",
       "  </tbody>\n",
       "</table>\n",
       "</div>"
      ],
      "text/plain": [
       "  Condition  Number  Price\n",
       "0      NYOP       1   1.00\n",
       "1      NYOP       1   1.00\n",
       "2      NYOP       1   0.01\n",
       "3      NYOP       1   0.10\n",
       "4      NYOP       1   0.01"
      ]
     },
     "execution_count": 15,
     "metadata": {},
     "output_type": "execute_result"
    }
   ],
   "source": [
    "nyop_dat.head()"
   ]
  },
  {
   "cell_type": "code",
   "execution_count": 16,
   "metadata": {},
   "outputs": [
    {
     "data": {
      "text/html": [
       "<div>\n",
       "<style scoped>\n",
       "    .dataframe tbody tr th:only-of-type {\n",
       "        vertical-align: middle;\n",
       "    }\n",
       "\n",
       "    .dataframe tbody tr th {\n",
       "        vertical-align: top;\n",
       "    }\n",
       "\n",
       "    .dataframe thead th {\n",
       "        text-align: right;\n",
       "    }\n",
       "</style>\n",
       "<table border=\"1\" class=\"dataframe\">\n",
       "  <thead>\n",
       "    <tr style=\"text-align: right;\">\n",
       "      <th></th>\n",
       "      <th>Condition</th>\n",
       "      <th>Number</th>\n",
       "      <th>Price</th>\n",
       "      <th>UnitPrice</th>\n",
       "    </tr>\n",
       "  </thead>\n",
       "  <tbody>\n",
       "    <tr>\n",
       "      <th>0</th>\n",
       "      <td>NYOP</td>\n",
       "      <td>1</td>\n",
       "      <td>1.00</td>\n",
       "      <td>1.00</td>\n",
       "    </tr>\n",
       "    <tr>\n",
       "      <th>1</th>\n",
       "      <td>NYOP</td>\n",
       "      <td>1</td>\n",
       "      <td>1.00</td>\n",
       "      <td>1.00</td>\n",
       "    </tr>\n",
       "    <tr>\n",
       "      <th>2</th>\n",
       "      <td>NYOP</td>\n",
       "      <td>1</td>\n",
       "      <td>0.01</td>\n",
       "      <td>0.01</td>\n",
       "    </tr>\n",
       "    <tr>\n",
       "      <th>3</th>\n",
       "      <td>NYOP</td>\n",
       "      <td>1</td>\n",
       "      <td>0.10</td>\n",
       "      <td>0.10</td>\n",
       "    </tr>\n",
       "    <tr>\n",
       "      <th>4</th>\n",
       "      <td>NYOP</td>\n",
       "      <td>1</td>\n",
       "      <td>0.01</td>\n",
       "      <td>0.01</td>\n",
       "    </tr>\n",
       "  </tbody>\n",
       "</table>\n",
       "</div>"
      ],
      "text/plain": [
       "  Condition  Number  Price  UnitPrice\n",
       "0      NYOP       1   1.00       1.00\n",
       "1      NYOP       1   1.00       1.00\n",
       "2      NYOP       1   0.01       0.01\n",
       "3      NYOP       1   0.10       0.10\n",
       "4      NYOP       1   0.01       0.01"
      ]
     },
     "execution_count": 16,
     "metadata": {},
     "output_type": "execute_result"
    }
   ],
   "source": [
    "nyop_dat['UnitPrice'] = nyop_dat['Price'] / nyop_dat['Number']\n",
    "nyop_dat.head()"
   ]
  },
  {
   "cell_type": "markdown",
   "metadata": {},
   "source": [
    "## Part B"
   ]
  },
  {
   "cell_type": "code",
   "execution_count": 17,
   "metadata": {},
   "outputs": [],
   "source": [
    "nyop_dat['Number'] = pd.Categorical(nyop_dat['Number'])"
   ]
  },
  {
   "cell_type": "code",
   "execution_count": 18,
   "metadata": {},
   "outputs": [
    {
     "data": {
      "image/png": "[encoded data removed]",
      "text/plain": [
       "<Figure size 640x480 with 1 Axes>"
      ]
     },
     "metadata": {},
     "output_type": "display_data"
    }
   ],
   "source": [
    "nyop_dat.boxplot(column='Price',by='Number', patch_artist = True)\n",
    "plt.show()"
   ]
  },
  {
   "cell_type": "markdown",
   "metadata": {},
   "source": [
    "Under the the various number of photos bought against the Price, we see that there is no strong relationship between the two variables. Although under 50 percent of the time, we see that the price paid for photos is between 0 and 10 dollars, there are a significant spread of out outliers that consider at each price level except for the 7 photo case. "
   ]
  },
  {
   "cell_type": "code",
   "execution_count": 19,
   "metadata": {},
   "outputs": [
    {
     "data": {
      "image/png": "[encoded data removed]",
      "text/plain": [
       "<Figure size 640x480 with 1 Axes>"
      ]
     },
     "metadata": {},
     "output_type": "display_data"
    }
   ],
   "source": [
    "nyop_dat.boxplot(column='UnitPrice',by='Number', patch_artist = True)\n",
    "plt.show()"
   ]
  },
  {
   "cell_type": "markdown",
   "metadata": {},
   "source": [
    "Unlike the price relationship, we see in this case there is a clear negative relationship between the number and unit price for the photos paid under the NYOP case. Overall, as the number of photos increases, we see that the price paid per photo decreases. This seems to hold under the center spread between the 25th and 75th percentile and the outlier values."
   ]
  },
  {
   "cell_type": "markdown",
   "metadata": {},
   "source": [
    "## Part C"
   ]
  },
  {
   "cell_type": "code",
   "execution_count": 20,
   "metadata": {},
   "outputs": [
    {
     "data": {
      "text/plain": [
       "Condition\n",
       "NYOP            1.040439\n",
       "NYOP Charity    5.680480\n",
       "Name: UnitPrice, dtype: float64"
      ]
     },
     "execution_count": 20,
     "metadata": {},
     "output_type": "execute_result"
    }
   ],
   "source": [
    "avg_unit_price = nyop_dat.groupby('Condition')['UnitPrice'].mean()\n",
    "avg_unit_price"
   ]
  },
  {
   "cell_type": "markdown",
   "metadata": {},
   "source": [
    "There seems to be a substantial difference between the unit price of the charity and non charity cases. To do this, we can compare the difference in means under the two conditions with a two sided test."
   ]
  },
  {
   "cell_type": "markdown",
   "metadata": {},
   "source": [
    "## Part D"
   ]
  },
  {
   "cell_type": "markdown",
   "metadata": {},
   "source": [
    "$$\n",
    "H_0: UnitPrice_{\\text{NYOP}} = UnitPrice_{\\text{NYOP Charity}} \\\\\n",
    "H_a: UnitPrice_{\\text{NYOP}} \\ne UnitPrice_{\\text{NYOP Charity}}\n",
    "$$"
   ]
  },
  {
   "cell_type": "markdown",
   "metadata": {},
   "source": [
    "Under the null we expect the unit price between the charity and non charity case to be the same; or in other words, there is no significance difference in the average unit price for both conditions."
   ]
  },
  {
   "cell_type": "code",
   "execution_count": 21,
   "metadata": {},
   "outputs": [],
   "source": [
    "import pyrsm as rsm"
   ]
  },
  {
   "cell_type": "markdown",
   "metadata": {},
   "source": [
    "## Part E"
   ]
  },
  {
   "cell_type": "code",
   "execution_count": 22,
   "metadata": {},
   "outputs": [
    {
     "name": "stdout",
     "output_type": "stream",
     "text": [
      "Pairwise mean comparisons (t-test)\n",
      "Data      : NYOP\n",
      "Variables : Condition, UnitPrice\n",
      "Samples   : independent\n",
      "Confidence: 0.95\n",
      "Adjustment: None\n",
      "   Condition  mean    n  n_missing    sd    se    me\n",
      "        NYOP  1.04 1641          0 1.305 0.032 0.063\n",
      "NYOP Charity  5.68 1457          0 4.670 0.122 0.240\n",
      "          Null hyp.                      Alt. hyp.  diff p.value    \n",
      "NYOP = NYOP Charity NYOP not equal to NYOP Charity -4.64  < .001 ***\n",
      "\n",
      "Signif. codes:  0 '***' 0.001 '**' 0.01 '*' 0.05 '.' 0.1 ' ' 1\n"
     ]
    }
   ],
   "source": [
    "cm = rsm.basics.compare_means({'NYOP': nyop_dat}, var1='Condition', var2='UnitPrice', alt_hyp='two-sided')\n",
    "cm.summary()"
   ]
  },
  {
   "cell_type": "markdown",
   "metadata": {},
   "source": [
    "- Type 1: Under a significance level level of 5 percent, there is a 5 percent chance of claiming that the average unit price under the two conditions are difference when there is none.\n",
    "- Type 2: If we fail to reject the null hypothesis to state that there is no difference when there actually was.\n",
    "\n",
    "Regardless, under both circumstances, we see that because the p value is smaller than 0.001, there is an extremely small likelihood that a Type 1 or even a Type 2 is committed under this difference of means t-test."
   ]
  },
  {
   "cell_type": "markdown",
   "metadata": {},
   "source": [
    "## Part F"
   ]
  },
  {
   "cell_type": "code",
   "execution_count": 24,
   "metadata": {},
   "outputs": [],
   "source": [
    "one_pic = nyop_dat[nyop_dat['Number'] == 1]\n",
    "six_pic = nyop_dat[nyop_dat['Number'] == 6]"
   ]
  },
  {
   "cell_type": "code",
   "execution_count": 262,
   "metadata": {},
   "outputs": [
    {
     "name": "stdout",
     "output_type": "stream",
     "text": [
      "Pairwise mean comparisons (t-test)\n",
      "Data      : one_pic\n",
      "Variables : Condition, UnitPrice\n",
      "Samples   : independent\n",
      "Confidence: 0.95\n",
      "Adjustment: None\n",
      "   Condition  mean    n  n_missing    sd    se    me\n",
      "        NYOP 1.177 1162          0 1.432 0.042 0.082\n",
      "NYOP Charity 5.941 1203          0 4.830 0.139 0.273\n",
      "          Null hyp.                      Alt. hyp.   diff p.value    \n",
      "NYOP = NYOP Charity NYOP not equal to NYOP Charity -4.765  < .001 ***\n",
      "\n",
      "Signif. codes:  0 '***' 0.001 '**' 0.01 '*' 0.05 '.' 0.1 ' ' 1\n"
     ]
    }
   ],
   "source": [
    "cm2 = rsm.basics.compare_means({'one_pic': one_pic}, var1='Condition', var2='UnitPrice', alt_hyp='two-sided')\n",
    "cm2.summary()"
   ]
  },
  {
   "cell_type": "markdown",
   "metadata": {},
   "source": [
    "Under this condition, we see that the p value for the 1 picture condition is extremely small. Hence, we reject the null hypothesis that there is a difference between the mean unit price between the charity and non charity case. "
   ]
  },
  {
   "cell_type": "code",
   "execution_count": 263,
   "metadata": {},
   "outputs": [
    {
     "name": "stdout",
     "output_type": "stream",
     "text": [
      "Pairwise mean comparisons (t-test)\n",
      "Data      : six_pic\n",
      "Variables : Condition, UnitPrice\n",
      "Samples   : independent\n",
      "Confidence: 0.95\n",
      "Adjustment: None\n",
      "   Condition  mean  n  n_missing    sd    se    me\n",
      "        NYOP 0.495  6          0 0.615 0.251 0.646\n",
      "NYOP Charity 1.970  3          0 1.795 1.036 4.459\n",
      "          Null hyp.                      Alt. hyp.   diff p.value  \n",
      "NYOP = NYOP Charity NYOP not equal to NYOP Charity -1.475   0.288  \n",
      "\n",
      "Signif. codes:  0 '***' 0.001 '**' 0.01 '*' 0.05 '.' 0.1 ' ' 1\n"
     ]
    }
   ],
   "source": [
    "cm3 = rsm.basics.compare_means({'six_pic': six_pic}, var1='Condition', var2='UnitPrice', alt_hyp='two-sided')\n",
    "cm3.summary()"
   ]
  },
  {
   "cell_type": "markdown",
   "metadata": {},
   "source": [
    "Under this condition, we see that the p value for the 6 picture condition is at 0.288; this is the large compared to the 0.05 significance level. Hence, we fail to reject the null hypothesis that there is a difference between the mean unit price between the charity and non charity case. "
   ]
  },
  {
   "cell_type": "markdown",
   "metadata": {},
   "source": [
    "## Part G"
   ]
  },
  {
   "cell_type": "markdown",
   "metadata": {},
   "source": [
    "$$\n",
    "H_0: \\mu_1 = \\mu_2 \\\\\n",
    "H_a: \\mu_1 \\ne \\mu_2\n",
    "$$"
   ]
  },
  {
   "cell_type": "markdown",
   "metadata": {},
   "source": [
    "Under the 6 picture case, the null states that the means between the charity and non charity case is the same. The alternative hypothesis case states that the means between the two cases are not the same."
   ]
  },
  {
   "cell_type": "code",
   "execution_count": 25,
   "metadata": {},
   "outputs": [
    {
     "data": {
      "text/html": [
       "<div>\n",
       "<style scoped>\n",
       "    .dataframe tbody tr th:only-of-type {\n",
       "        vertical-align: middle;\n",
       "    }\n",
       "\n",
       "    .dataframe tbody tr th {\n",
       "        vertical-align: top;\n",
       "    }\n",
       "\n",
       "    .dataframe thead th {\n",
       "        text-align: right;\n",
       "    }\n",
       "</style>\n",
       "<table border=\"1\" class=\"dataframe\">\n",
       "  <thead>\n",
       "    <tr style=\"text-align: right;\">\n",
       "      <th></th>\n",
       "      <th>Condition</th>\n",
       "      <th>Number</th>\n",
       "      <th>Price</th>\n",
       "      <th>UnitPrice</th>\n",
       "    </tr>\n",
       "  </thead>\n",
       "  <tbody>\n",
       "    <tr>\n",
       "      <th>296</th>\n",
       "      <td>NYOP</td>\n",
       "      <td>6</td>\n",
       "      <td>0.06</td>\n",
       "      <td>0.01</td>\n",
       "    </tr>\n",
       "    <tr>\n",
       "      <th>356</th>\n",
       "      <td>NYOP</td>\n",
       "      <td>6</td>\n",
       "      <td>6.00</td>\n",
       "      <td>1.00</td>\n",
       "    </tr>\n",
       "    <tr>\n",
       "      <th>382</th>\n",
       "      <td>NYOP</td>\n",
       "      <td>6</td>\n",
       "      <td>0.90</td>\n",
       "      <td>0.15</td>\n",
       "    </tr>\n",
       "    <tr>\n",
       "      <th>623</th>\n",
       "      <td>NYOP</td>\n",
       "      <td>6</td>\n",
       "      <td>0.06</td>\n",
       "      <td>0.01</td>\n",
       "    </tr>\n",
       "    <tr>\n",
       "      <th>1445</th>\n",
       "      <td>NYOP</td>\n",
       "      <td>6</td>\n",
       "      <td>9.00</td>\n",
       "      <td>1.50</td>\n",
       "    </tr>\n",
       "  </tbody>\n",
       "</table>\n",
       "</div>"
      ],
      "text/plain": [
       "     Condition Number  Price  UnitPrice\n",
       "296       NYOP      6   0.06       0.01\n",
       "356       NYOP      6   6.00       1.00\n",
       "382       NYOP      6   0.90       0.15\n",
       "623       NYOP      6   0.06       0.01\n",
       "1445      NYOP      6   9.00       1.50"
      ]
     },
     "execution_count": 25,
     "metadata": {},
     "output_type": "execute_result"
    }
   ],
   "source": [
    "six_pic.head()"
   ]
  },
  {
   "cell_type": "code",
   "execution_count": 26,
   "metadata": {},
   "outputs": [],
   "source": [
    "six_nyop = six_pic[six_pic['Condition'] == 'NYOP']['UnitPrice']\n",
    "six_char = six_pic[six_pic['Condition'] == 'NYOP Charity']['UnitPrice']"
   ]
  },
  {
   "cell_type": "code",
   "execution_count": 27,
   "metadata": {},
   "outputs": [],
   "source": [
    "from scipy.stats import t"
   ]
  },
  {
   "cell_type": "code",
   "execution_count": 39,
   "metadata": {},
   "outputs": [],
   "source": [
    "xbar_1 = six_nyop.mean()\n",
    "xbar_2 = six_char.mean()\n",
    "s1 = six_nyop.std(ddof=1)\n",
    "s2 = six_char.std(ddof=1)\n",
    "n1 = len(six_nyop)\n",
    "n2 = len(six_char)"
   ]
  },
  {
   "cell_type": "code",
   "execution_count": 43,
   "metadata": {},
   "outputs": [],
   "source": [
    "SE = np.sqrt((s1**2 / n1) + (s2**2 / n2))"
   ]
  },
  {
   "cell_type": "code",
   "execution_count": 44,
   "metadata": {},
   "outputs": [
    {
     "data": {
      "text/plain": [
       "-1.3830917803702296"
      ]
     },
     "execution_count": 44,
     "metadata": {},
     "output_type": "execute_result"
    }
   ],
   "source": [
    "t_val = (xbar_1 - xbar_2) / SE\n",
    "t_val"
   ]
  },
  {
   "cell_type": "code",
   "execution_count": 54,
   "metadata": {},
   "outputs": [],
   "source": [
    "numer = (s1**2 / n1 + s2**2 / n2)**2\n",
    "denom = (s1**2 / n1)**2 / (n1 -1) + (s2**2 / n2)**2 / (n2-1)\n",
    "dof = numer/denom # Use welch's t test, so variances are not equal"
   ]
  },
  {
   "cell_type": "code",
   "execution_count": 55,
   "metadata": {},
   "outputs": [
    {
     "data": {
      "text/plain": [
       "0.2884114566627223"
      ]
     },
     "execution_count": 55,
     "metadata": {},
     "output_type": "execute_result"
    }
   ],
   "source": [
    "pval = (1 - t.cdf(abs(t_val), df=dof)) * 2\n",
    "pval"
   ]
  },
  {
   "cell_type": "markdown",
   "metadata": {},
   "source": [
    "According to this difference of means test, we see that the test coincides as part f. Overall, we fail to reject the null hypothesis as the p value is much larger than the 0.05 significance level. "
   ]
  },
  {
   "cell_type": "markdown",
   "metadata": {},
   "source": [
    "# Economics"
   ]
  },
  {
   "cell_type": "markdown",
   "metadata": {},
   "source": [
    "# Part A + B"
   ]
  },
  {
   "cell_type": "markdown",
   "metadata": {},
   "source": [
    "## FR Case"
   ]
  },
  {
   "cell_type": "code",
   "execution_count": 271,
   "metadata": {},
   "outputs": [
    {
     "data": {
      "text/html": [
       "<div>\n",
       "<style scoped>\n",
       "    .dataframe tbody tr th:only-of-type {\n",
       "        vertical-align: middle;\n",
       "    }\n",
       "\n",
       "    .dataframe tbody tr th {\n",
       "        vertical-align: top;\n",
       "    }\n",
       "\n",
       "    .dataframe thead th {\n",
       "        text-align: right;\n",
       "    }\n",
       "</style>\n",
       "<table border=\"1\" class=\"dataframe\">\n",
       "  <thead>\n",
       "    <tr style=\"text-align: right;\">\n",
       "      <th></th>\n",
       "      <th>Condition</th>\n",
       "      <th>NumberSold</th>\n",
       "      <th>Riders</th>\n",
       "      <th>MerchandiseRevenues</th>\n",
       "    </tr>\n",
       "  </thead>\n",
       "  <tbody>\n",
       "    <tr>\n",
       "      <th>0</th>\n",
       "      <td>FR</td>\n",
       "      <td>77</td>\n",
       "      <td>12663</td>\n",
       "      <td>4592.41</td>\n",
       "    </tr>\n",
       "    <tr>\n",
       "      <th>1</th>\n",
       "      <td>FR</td>\n",
       "      <td>63</td>\n",
       "      <td>15561</td>\n",
       "      <td>6688.57</td>\n",
       "    </tr>\n",
       "    <tr>\n",
       "      <th>2</th>\n",
       "      <td>FR Charity</td>\n",
       "      <td>79</td>\n",
       "      <td>14796</td>\n",
       "      <td>6476.78</td>\n",
       "    </tr>\n",
       "    <tr>\n",
       "      <th>3</th>\n",
       "      <td>FR Charity</td>\n",
       "      <td>101</td>\n",
       "      <td>15796</td>\n",
       "      <td>5845.94</td>\n",
       "    </tr>\n",
       "    <tr>\n",
       "      <th>4</th>\n",
       "      <td>NYOP</td>\n",
       "      <td>1137</td>\n",
       "      <td>14077</td>\n",
       "      <td>4845.27</td>\n",
       "    </tr>\n",
       "    <tr>\n",
       "      <th>5</th>\n",
       "      <td>NYOP</td>\n",
       "      <td>1233</td>\n",
       "      <td>14186</td>\n",
       "      <td>7038.63</td>\n",
       "    </tr>\n",
       "    <tr>\n",
       "      <th>6</th>\n",
       "      <td>NYOP Charity</td>\n",
       "      <td>539</td>\n",
       "      <td>12227</td>\n",
       "      <td>5690.59</td>\n",
       "    </tr>\n",
       "    <tr>\n",
       "      <th>7</th>\n",
       "      <td>NYOP Charity</td>\n",
       "      <td>628</td>\n",
       "      <td>13741</td>\n",
       "      <td>6003.44</td>\n",
       "    </tr>\n",
       "    <tr>\n",
       "      <th>8</th>\n",
       "      <td>NYOP Charity</td>\n",
       "      <td>626</td>\n",
       "      <td>18117</td>\n",
       "      <td>8557.47</td>\n",
       "    </tr>\n",
       "  </tbody>\n",
       "</table>\n",
       "</div>"
      ],
      "text/plain": [
       "      Condition  NumberSold  Riders  MerchandiseRevenues\n",
       "0            FR          77   12663              4592.41\n",
       "1            FR          63   15561              6688.57\n",
       "2    FR Charity          79   14796              6476.78\n",
       "3    FR Charity         101   15796              5845.94\n",
       "4          NYOP        1137   14077              4845.27\n",
       "5          NYOP        1233   14186              7038.63\n",
       "6  NYOP Charity         539   12227              5690.59\n",
       "7  NYOP Charity         628   13741              6003.44\n",
       "8  NYOP Charity         626   18117              8557.47"
      ]
     },
     "execution_count": 271,
     "metadata": {},
     "output_type": "execute_result"
    }
   ],
   "source": [
    "sales_dat"
   ]
  },
  {
   "cell_type": "code",
   "execution_count": 272,
   "metadata": {},
   "outputs": [],
   "source": [
    "fr_data = sales_dat[(sales_dat['Condition'] == 'FR') | (sales_dat['Condition'] == 'FR Charity')].copy()\n",
    "fr_data['cogs'] = fr_data['NumberSold'] * 1.2\n",
    "fr_data['revenues'] = fr_data['NumberSold'] * 12.95\n",
    "fr_data.loc[fr_data['Condition'] == 'FR Charity', 'revenues'] = fr_data.loc[fr_data['Condition'] == 'FR Charity', 'revenues'] * 0.5\n",
    "fr_data['profit'] = fr_data['revenues'] - fr_data['cogs']"
   ]
  },
  {
   "cell_type": "code",
   "execution_count": 273,
   "metadata": {},
   "outputs": [
    {
     "data": {
      "text/plain": [
       "Condition\n",
       "FR            822.50\n",
       "FR Charity    474.75\n",
       "Name: profit, dtype: float64"
      ]
     },
     "execution_count": 273,
     "metadata": {},
     "output_type": "execute_result"
    }
   ],
   "source": [
    "fr_avg_profit = fr_data.groupby('Condition')['profit'].mean()\n",
    "fr_avg_profit"
   ]
  },
  {
   "cell_type": "markdown",
   "metadata": {},
   "source": [
    "## NYOP Case"
   ]
  },
  {
   "cell_type": "code",
   "execution_count": 274,
   "metadata": {},
   "outputs": [
    {
     "data": {
      "text/html": [
       "<div>\n",
       "<style scoped>\n",
       "    .dataframe tbody tr th:only-of-type {\n",
       "        vertical-align: middle;\n",
       "    }\n",
       "\n",
       "    .dataframe tbody tr th {\n",
       "        vertical-align: top;\n",
       "    }\n",
       "\n",
       "    .dataframe thead th {\n",
       "        text-align: right;\n",
       "    }\n",
       "</style>\n",
       "<table border=\"1\" class=\"dataframe\">\n",
       "  <thead>\n",
       "    <tr style=\"text-align: right;\">\n",
       "      <th></th>\n",
       "      <th>Condition</th>\n",
       "      <th>Number</th>\n",
       "      <th>Price</th>\n",
       "      <th>UnitPrice</th>\n",
       "    </tr>\n",
       "  </thead>\n",
       "  <tbody>\n",
       "    <tr>\n",
       "      <th>0</th>\n",
       "      <td>NYOP</td>\n",
       "      <td>1</td>\n",
       "      <td>1.00</td>\n",
       "      <td>1.00</td>\n",
       "    </tr>\n",
       "    <tr>\n",
       "      <th>1</th>\n",
       "      <td>NYOP</td>\n",
       "      <td>1</td>\n",
       "      <td>1.00</td>\n",
       "      <td>1.00</td>\n",
       "    </tr>\n",
       "    <tr>\n",
       "      <th>2</th>\n",
       "      <td>NYOP</td>\n",
       "      <td>1</td>\n",
       "      <td>0.01</td>\n",
       "      <td>0.01</td>\n",
       "    </tr>\n",
       "    <tr>\n",
       "      <th>3</th>\n",
       "      <td>NYOP</td>\n",
       "      <td>1</td>\n",
       "      <td>0.10</td>\n",
       "      <td>0.10</td>\n",
       "    </tr>\n",
       "    <tr>\n",
       "      <th>4</th>\n",
       "      <td>NYOP</td>\n",
       "      <td>1</td>\n",
       "      <td>0.01</td>\n",
       "      <td>0.01</td>\n",
       "    </tr>\n",
       "    <tr>\n",
       "      <th>...</th>\n",
       "      <td>...</td>\n",
       "      <td>...</td>\n",
       "      <td>...</td>\n",
       "      <td>...</td>\n",
       "    </tr>\n",
       "    <tr>\n",
       "      <th>3093</th>\n",
       "      <td>NYOP Charity</td>\n",
       "      <td>1</td>\n",
       "      <td>9.38</td>\n",
       "      <td>9.38</td>\n",
       "    </tr>\n",
       "    <tr>\n",
       "      <th>3094</th>\n",
       "      <td>NYOP Charity</td>\n",
       "      <td>1</td>\n",
       "      <td>1.00</td>\n",
       "      <td>1.00</td>\n",
       "    </tr>\n",
       "    <tr>\n",
       "      <th>3095</th>\n",
       "      <td>NYOP Charity</td>\n",
       "      <td>1</td>\n",
       "      <td>0.93</td>\n",
       "      <td>0.93</td>\n",
       "    </tr>\n",
       "    <tr>\n",
       "      <th>3096</th>\n",
       "      <td>NYOP Charity</td>\n",
       "      <td>1</td>\n",
       "      <td>9.38</td>\n",
       "      <td>9.38</td>\n",
       "    </tr>\n",
       "    <tr>\n",
       "      <th>3097</th>\n",
       "      <td>NYOP Charity</td>\n",
       "      <td>1</td>\n",
       "      <td>1.87</td>\n",
       "      <td>1.87</td>\n",
       "    </tr>\n",
       "  </tbody>\n",
       "</table>\n",
       "<p>3098 rows × 4 columns</p>\n",
       "</div>"
      ],
      "text/plain": [
       "         Condition Number  Price  UnitPrice\n",
       "0             NYOP      1   1.00       1.00\n",
       "1             NYOP      1   1.00       1.00\n",
       "2             NYOP      1   0.01       0.01\n",
       "3             NYOP      1   0.10       0.10\n",
       "4             NYOP      1   0.01       0.01\n",
       "...            ...    ...    ...        ...\n",
       "3093  NYOP Charity      1   9.38       9.38\n",
       "3094  NYOP Charity      1   1.00       1.00\n",
       "3095  NYOP Charity      1   0.93       0.93\n",
       "3096  NYOP Charity      1   9.38       9.38\n",
       "3097  NYOP Charity      1   1.87       1.87\n",
       "\n",
       "[3098 rows x 4 columns]"
      ]
     },
     "execution_count": 274,
     "metadata": {},
     "output_type": "execute_result"
    }
   ],
   "source": [
    "nyop_dat"
   ]
  },
  {
   "cell_type": "code",
   "execution_count": 275,
   "metadata": {},
   "outputs": [
    {
     "data": {
      "text/html": [
       "<div>\n",
       "<style scoped>\n",
       "    .dataframe tbody tr th:only-of-type {\n",
       "        vertical-align: middle;\n",
       "    }\n",
       "\n",
       "    .dataframe tbody tr th {\n",
       "        vertical-align: top;\n",
       "    }\n",
       "\n",
       "    .dataframe thead th {\n",
       "        text-align: right;\n",
       "    }\n",
       "</style>\n",
       "<table border=\"1\" class=\"dataframe\">\n",
       "  <thead>\n",
       "    <tr style=\"text-align: right;\">\n",
       "      <th></th>\n",
       "      <th>Condition</th>\n",
       "      <th>Number</th>\n",
       "      <th>Price</th>\n",
       "      <th>UnitPrice</th>\n",
       "      <th>cogs</th>\n",
       "      <th>revenues</th>\n",
       "      <th>profit</th>\n",
       "    </tr>\n",
       "  </thead>\n",
       "  <tbody>\n",
       "    <tr>\n",
       "      <th>0</th>\n",
       "      <td>NYOP</td>\n",
       "      <td>1</td>\n",
       "      <td>1.00</td>\n",
       "      <td>1.00</td>\n",
       "      <td>1.2</td>\n",
       "      <td>1.000</td>\n",
       "      <td>-0.200</td>\n",
       "    </tr>\n",
       "    <tr>\n",
       "      <th>1</th>\n",
       "      <td>NYOP</td>\n",
       "      <td>1</td>\n",
       "      <td>1.00</td>\n",
       "      <td>1.00</td>\n",
       "      <td>1.2</td>\n",
       "      <td>1.000</td>\n",
       "      <td>-0.200</td>\n",
       "    </tr>\n",
       "    <tr>\n",
       "      <th>2</th>\n",
       "      <td>NYOP</td>\n",
       "      <td>1</td>\n",
       "      <td>0.01</td>\n",
       "      <td>0.01</td>\n",
       "      <td>1.2</td>\n",
       "      <td>0.010</td>\n",
       "      <td>-1.190</td>\n",
       "    </tr>\n",
       "    <tr>\n",
       "      <th>3</th>\n",
       "      <td>NYOP</td>\n",
       "      <td>1</td>\n",
       "      <td>0.10</td>\n",
       "      <td>0.10</td>\n",
       "      <td>1.2</td>\n",
       "      <td>0.100</td>\n",
       "      <td>-1.100</td>\n",
       "    </tr>\n",
       "    <tr>\n",
       "      <th>4</th>\n",
       "      <td>NYOP</td>\n",
       "      <td>1</td>\n",
       "      <td>0.01</td>\n",
       "      <td>0.01</td>\n",
       "      <td>1.2</td>\n",
       "      <td>0.010</td>\n",
       "      <td>-1.190</td>\n",
       "    </tr>\n",
       "    <tr>\n",
       "      <th>...</th>\n",
       "      <td>...</td>\n",
       "      <td>...</td>\n",
       "      <td>...</td>\n",
       "      <td>...</td>\n",
       "      <td>...</td>\n",
       "      <td>...</td>\n",
       "      <td>...</td>\n",
       "    </tr>\n",
       "    <tr>\n",
       "      <th>3093</th>\n",
       "      <td>NYOP Charity</td>\n",
       "      <td>1</td>\n",
       "      <td>9.38</td>\n",
       "      <td>9.38</td>\n",
       "      <td>1.2</td>\n",
       "      <td>4.690</td>\n",
       "      <td>3.490</td>\n",
       "    </tr>\n",
       "    <tr>\n",
       "      <th>3094</th>\n",
       "      <td>NYOP Charity</td>\n",
       "      <td>1</td>\n",
       "      <td>1.00</td>\n",
       "      <td>1.00</td>\n",
       "      <td>1.2</td>\n",
       "      <td>0.500</td>\n",
       "      <td>-0.700</td>\n",
       "    </tr>\n",
       "    <tr>\n",
       "      <th>3095</th>\n",
       "      <td>NYOP Charity</td>\n",
       "      <td>1</td>\n",
       "      <td>0.93</td>\n",
       "      <td>0.93</td>\n",
       "      <td>1.2</td>\n",
       "      <td>0.465</td>\n",
       "      <td>-0.735</td>\n",
       "    </tr>\n",
       "    <tr>\n",
       "      <th>3096</th>\n",
       "      <td>NYOP Charity</td>\n",
       "      <td>1</td>\n",
       "      <td>9.38</td>\n",
       "      <td>9.38</td>\n",
       "      <td>1.2</td>\n",
       "      <td>4.690</td>\n",
       "      <td>3.490</td>\n",
       "    </tr>\n",
       "    <tr>\n",
       "      <th>3097</th>\n",
       "      <td>NYOP Charity</td>\n",
       "      <td>1</td>\n",
       "      <td>1.87</td>\n",
       "      <td>1.87</td>\n",
       "      <td>1.2</td>\n",
       "      <td>0.935</td>\n",
       "      <td>-0.265</td>\n",
       "    </tr>\n",
       "  </tbody>\n",
       "</table>\n",
       "<p>3098 rows × 7 columns</p>\n",
       "</div>"
      ],
      "text/plain": [
       "         Condition  Number  Price  UnitPrice  cogs  revenues  profit\n",
       "0             NYOP       1   1.00       1.00   1.2     1.000  -0.200\n",
       "1             NYOP       1   1.00       1.00   1.2     1.000  -0.200\n",
       "2             NYOP       1   0.01       0.01   1.2     0.010  -1.190\n",
       "3             NYOP       1   0.10       0.10   1.2     0.100  -1.100\n",
       "4             NYOP       1   0.01       0.01   1.2     0.010  -1.190\n",
       "...            ...     ...    ...        ...   ...       ...     ...\n",
       "3093  NYOP Charity       1   9.38       9.38   1.2     4.690   3.490\n",
       "3094  NYOP Charity       1   1.00       1.00   1.2     0.500  -0.700\n",
       "3095  NYOP Charity       1   0.93       0.93   1.2     0.465  -0.735\n",
       "3096  NYOP Charity       1   9.38       9.38   1.2     4.690   3.490\n",
       "3097  NYOP Charity       1   1.87       1.87   1.2     0.935  -0.265\n",
       "\n",
       "[3098 rows x 7 columns]"
      ]
     },
     "execution_count": 275,
     "metadata": {},
     "output_type": "execute_result"
    }
   ],
   "source": [
    "nyop_dat_rev = nyop_dat.copy()\n",
    "nyop_dat_rev['Number'] = (nyop_dat_rev['Number']).astype(int)\n",
    "nyop_dat_rev['cogs'] = nyop_dat_rev['Number'] * 1.2\n",
    "nyop_dat_rev['revenues'] = nyop_dat_rev['Price'] * nyop_dat_rev['Number']\n",
    "nyop_dat_rev.loc[nyop_dat_rev['Condition'] == 'NYOP Charity', 'revenues'] = nyop_dat_rev.loc[nyop_dat_rev['Condition'] == 'NYOP Charity', 'revenues'] * 0.5\n",
    "nyop_dat_rev['profit'] = nyop_dat_rev['revenues'] - nyop_dat_rev['cogs']\n",
    "nyop_dat_rev"
   ]
  },
  {
   "cell_type": "code",
   "execution_count": 276,
   "metadata": {},
   "outputs": [],
   "source": [
    "nyop_daily = (nyop_dat_rev.loc[nyop_dat_rev['Condition'] == 'NYOP', :].groupby('Condition').sum() / 2)['profit']\n",
    "nyop_char_daily = (nyop_dat_rev.loc[nyop_dat_rev['Condition'] == 'NYOP Charity', :].groupby('Condition').sum() / 3)['profit']"
   ]
  },
  {
   "cell_type": "code",
   "execution_count": 277,
   "metadata": {},
   "outputs": [
    {
     "data": {
      "text/plain": [
       "Condition\n",
       "NYOP             330.510000\n",
       "NYOP Charity    1431.738333\n",
       "Name: profit, dtype: float64"
      ]
     },
     "execution_count": 277,
     "metadata": {},
     "output_type": "execute_result"
    }
   ],
   "source": [
    "nyop_daily_prof = pd.concat([nyop_daily, nyop_char_daily])\n",
    "nyop_daily_prof"
   ]
  },
  {
   "cell_type": "markdown",
   "metadata": {},
   "source": [
    "### All daily Profit"
   ]
  },
  {
   "cell_type": "code",
   "execution_count": 278,
   "metadata": {},
   "outputs": [
    {
     "data": {
      "text/plain": [
       "Condition\n",
       "NYOP Charity    1431.738333\n",
       "FR               822.500000\n",
       "FR Charity       474.750000\n",
       "NYOP             330.510000\n",
       "Name: profit, dtype: float64"
      ]
     },
     "execution_count": 278,
     "metadata": {},
     "output_type": "execute_result"
    }
   ],
   "source": [
    "all_daily = pd.concat([nyop_daily_prof, fr_avg_profit])\n",
    "all_daily.sort_values(ascending=False)"
   ]
  },
  {
   "cell_type": "code",
   "execution_count": 57,
   "metadata": {},
   "outputs": [
    {
     "ename": "NameError",
     "evalue": "name 'all_daily' is not defined",
     "output_type": "error",
     "traceback": [
      "\u001b[0;31m---------------------------------------------------------------------------\u001b[0m",
      "\u001b[0;31mNameError\u001b[0m                                 Traceback (most recent call last)",
      "Cell \u001b[0;32mIn[57], line 1\u001b[0m\n\u001b[0;32m----> 1\u001b[0m \u001b[43mall_daily\u001b[49m\u001b[38;5;241m.\u001b[39midxmax() \u001b[38;5;66;03m# The highest profit strategy\u001b[39;00m\n",
      "\u001b[0;31mNameError\u001b[0m: name 'all_daily' is not defined"
     ]
    }
   ],
   "source": [
    "all_daily.idxmax() # The highest profit strategy"
   ]
  },
  {
   "cell_type": "markdown",
   "metadata": {},
   "source": [
    "# Part C"
   ]
  },
  {
   "cell_type": "code",
   "execution_count": 280,
   "metadata": {},
   "outputs": [
    {
     "data": {
      "text/html": [
       "<div>\n",
       "<style scoped>\n",
       "    .dataframe tbody tr th:only-of-type {\n",
       "        vertical-align: middle;\n",
       "    }\n",
       "\n",
       "    .dataframe tbody tr th {\n",
       "        vertical-align: top;\n",
       "    }\n",
       "\n",
       "    .dataframe thead th {\n",
       "        text-align: right;\n",
       "    }\n",
       "</style>\n",
       "<table border=\"1\" class=\"dataframe\">\n",
       "  <thead>\n",
       "    <tr style=\"text-align: right;\">\n",
       "      <th></th>\n",
       "      <th>Condition</th>\n",
       "      <th>NumberSold</th>\n",
       "      <th>Riders</th>\n",
       "      <th>MerchandiseRevenues</th>\n",
       "      <th>cogs</th>\n",
       "      <th>revenues</th>\n",
       "      <th>profit</th>\n",
       "    </tr>\n",
       "  </thead>\n",
       "  <tbody>\n",
       "    <tr>\n",
       "      <th>2</th>\n",
       "      <td>FR Charity</td>\n",
       "      <td>79</td>\n",
       "      <td>14796</td>\n",
       "      <td>6476.78</td>\n",
       "      <td>94.8</td>\n",
       "      <td>511.525</td>\n",
       "      <td>416.725</td>\n",
       "    </tr>\n",
       "    <tr>\n",
       "      <th>3</th>\n",
       "      <td>FR Charity</td>\n",
       "      <td>101</td>\n",
       "      <td>15796</td>\n",
       "      <td>5845.94</td>\n",
       "      <td>121.2</td>\n",
       "      <td>653.975</td>\n",
       "      <td>532.775</td>\n",
       "    </tr>\n",
       "  </tbody>\n",
       "</table>\n",
       "</div>"
      ],
      "text/plain": [
       "    Condition  NumberSold  Riders  MerchandiseRevenues   cogs  revenues  \\\n",
       "2  FR Charity          79   14796              6476.78   94.8   511.525   \n",
       "3  FR Charity         101   15796              5845.94  121.2   653.975   \n",
       "\n",
       "    profit  \n",
       "2  416.725  \n",
       "3  532.775  "
      ]
     },
     "execution_count": 280,
     "metadata": {},
     "output_type": "execute_result"
    }
   ],
   "source": [
    "charity_dat = fr_data[fr_data['Condition'].str.contains('Charity')]\n",
    "charity_dat"
   ]
  },
  {
   "cell_type": "code",
   "execution_count": 281,
   "metadata": {},
   "outputs": [
    {
     "data": {
      "text/plain": [
       "1057.5"
      ]
     },
     "execution_count": 281,
     "metadata": {},
     "output_type": "execute_result"
    }
   ],
   "source": [
    "chairty_rev_fr = ((charity_dat['NumberSold'] * 12.95 - charity_dat['NumberSold'] * 1.2) * 0.5).sum()\n",
    "chairty_rev_fr"
   ]
  },
  {
   "cell_type": "code",
   "execution_count": 282,
   "metadata": {},
   "outputs": [
    {
     "data": {
      "text/plain": [
       "6446.815"
      ]
     },
     "execution_count": 282,
     "metadata": {},
     "output_type": "execute_result"
    }
   ],
   "source": [
    "nyop_dat_charity = nyop_dat_rev[nyop_dat_rev['Condition'].str.contains('Charity')].copy()\n",
    "nyop_dat_charity.loc[:,'charity'] = nyop_dat_charity.loc[:,'revenues']\n",
    "charity_rev_nyop = nyop_dat_charity['charity'].sum()\n",
    "charity_rev_nyop"
   ]
  },
  {
   "cell_type": "code",
   "execution_count": 283,
   "metadata": {},
   "outputs": [
    {
     "data": {
      "text/html": [
       "<div>\n",
       "<style scoped>\n",
       "    .dataframe tbody tr th:only-of-type {\n",
       "        vertical-align: middle;\n",
       "    }\n",
       "\n",
       "    .dataframe tbody tr th {\n",
       "        vertical-align: top;\n",
       "    }\n",
       "\n",
       "    .dataframe thead th {\n",
       "        text-align: right;\n",
       "    }\n",
       "</style>\n",
       "<table border=\"1\" class=\"dataframe\">\n",
       "  <thead>\n",
       "    <tr style=\"text-align: right;\">\n",
       "      <th></th>\n",
       "      <th>Rev</th>\n",
       "      <th>Type</th>\n",
       "    </tr>\n",
       "  </thead>\n",
       "  <tbody>\n",
       "    <tr>\n",
       "      <th>0</th>\n",
       "      <td>6446.815</td>\n",
       "      <td>NYOP</td>\n",
       "    </tr>\n",
       "    <tr>\n",
       "      <th>1</th>\n",
       "      <td>1057.500</td>\n",
       "      <td>FR</td>\n",
       "    </tr>\n",
       "  </tbody>\n",
       "</table>\n",
       "</div>"
      ],
      "text/plain": [
       "        Rev  Type\n",
       "0  6446.815  NYOP\n",
       "1  1057.500    FR"
      ]
     },
     "execution_count": 283,
     "metadata": {},
     "output_type": "execute_result"
    }
   ],
   "source": [
    "charity_profit = pd.DataFrame({'Rev': [charity_rev_nyop, chairty_rev_fr], 'Type': ['NYOP', 'FR']})\n",
    "charity_profit"
   ]
  },
  {
   "cell_type": "code",
   "execution_count": 56,
   "metadata": {},
   "outputs": [
    {
     "ename": "NameError",
     "evalue": "name 'charity_profit' is not defined",
     "output_type": "error",
     "traceback": [
      "\u001b[0;31m---------------------------------------------------------------------------\u001b[0m",
      "\u001b[0;31mNameError\u001b[0m                                 Traceback (most recent call last)",
      "Cell \u001b[0;32mIn[56], line 1\u001b[0m\n\u001b[0;32m----> 1\u001b[0m \u001b[43mcharity_profit\u001b[49m\u001b[38;5;241m.\u001b[39msort_values(\u001b[38;5;124m'\u001b[39m\u001b[38;5;124mRev\u001b[39m\u001b[38;5;124m'\u001b[39m)\u001b[38;5;241m.\u001b[39mloc[\u001b[38;5;241m0\u001b[39m, \u001b[38;5;124m'\u001b[39m\u001b[38;5;124mType\u001b[39m\u001b[38;5;124m'\u001b[39m] \u001b[38;5;66;03m#The highest strategy for making largest societal profit.\u001b[39;00m\n",
      "\u001b[0;31mNameError\u001b[0m: name 'charity_profit' is not defined"
     ]
    }
   ],
   "source": [
    "charity_profit.sort_values('Rev').loc[0, 'Type'] #The highest strategy for making largest societal profit."
   ]
  },
  {
   "cell_type": "markdown",
   "metadata": {},
   "source": [
    "# Q4"
   ]
  },
  {
   "cell_type": "code",
   "execution_count": 285,
   "metadata": {},
   "outputs": [
    {
     "data": {
      "text/html": [
       "<div>\n",
       "<style scoped>\n",
       "    .dataframe tbody tr th:only-of-type {\n",
       "        vertical-align: middle;\n",
       "    }\n",
       "\n",
       "    .dataframe tbody tr th {\n",
       "        vertical-align: top;\n",
       "    }\n",
       "\n",
       "    .dataframe thead th {\n",
       "        text-align: right;\n",
       "    }\n",
       "</style>\n",
       "<table border=\"1\" class=\"dataframe\">\n",
       "  <thead>\n",
       "    <tr style=\"text-align: right;\">\n",
       "      <th></th>\n",
       "      <th>Condition</th>\n",
       "      <th>NumberSold</th>\n",
       "      <th>Riders</th>\n",
       "      <th>MerchandiseRevenues</th>\n",
       "    </tr>\n",
       "  </thead>\n",
       "  <tbody>\n",
       "    <tr>\n",
       "      <th>0</th>\n",
       "      <td>FR</td>\n",
       "      <td>77</td>\n",
       "      <td>12663</td>\n",
       "      <td>4592.41</td>\n",
       "    </tr>\n",
       "    <tr>\n",
       "      <th>1</th>\n",
       "      <td>FR</td>\n",
       "      <td>63</td>\n",
       "      <td>15561</td>\n",
       "      <td>6688.57</td>\n",
       "    </tr>\n",
       "    <tr>\n",
       "      <th>2</th>\n",
       "      <td>FR Charity</td>\n",
       "      <td>79</td>\n",
       "      <td>14796</td>\n",
       "      <td>6476.78</td>\n",
       "    </tr>\n",
       "    <tr>\n",
       "      <th>3</th>\n",
       "      <td>FR Charity</td>\n",
       "      <td>101</td>\n",
       "      <td>15796</td>\n",
       "      <td>5845.94</td>\n",
       "    </tr>\n",
       "    <tr>\n",
       "      <th>4</th>\n",
       "      <td>NYOP</td>\n",
       "      <td>1137</td>\n",
       "      <td>14077</td>\n",
       "      <td>4845.27</td>\n",
       "    </tr>\n",
       "    <tr>\n",
       "      <th>5</th>\n",
       "      <td>NYOP</td>\n",
       "      <td>1233</td>\n",
       "      <td>14186</td>\n",
       "      <td>7038.63</td>\n",
       "    </tr>\n",
       "    <tr>\n",
       "      <th>6</th>\n",
       "      <td>NYOP Charity</td>\n",
       "      <td>539</td>\n",
       "      <td>12227</td>\n",
       "      <td>5690.59</td>\n",
       "    </tr>\n",
       "    <tr>\n",
       "      <th>7</th>\n",
       "      <td>NYOP Charity</td>\n",
       "      <td>628</td>\n",
       "      <td>13741</td>\n",
       "      <td>6003.44</td>\n",
       "    </tr>\n",
       "    <tr>\n",
       "      <th>8</th>\n",
       "      <td>NYOP Charity</td>\n",
       "      <td>626</td>\n",
       "      <td>18117</td>\n",
       "      <td>8557.47</td>\n",
       "    </tr>\n",
       "  </tbody>\n",
       "</table>\n",
       "</div>"
      ],
      "text/plain": [
       "      Condition  NumberSold  Riders  MerchandiseRevenues\n",
       "0            FR          77   12663              4592.41\n",
       "1            FR          63   15561              6688.57\n",
       "2    FR Charity          79   14796              6476.78\n",
       "3    FR Charity         101   15796              5845.94\n",
       "4          NYOP        1137   14077              4845.27\n",
       "5          NYOP        1233   14186              7038.63\n",
       "6  NYOP Charity         539   12227              5690.59\n",
       "7  NYOP Charity         628   13741              6003.44\n",
       "8  NYOP Charity         626   18117              8557.47"
      ]
     },
     "execution_count": 285,
     "metadata": {},
     "output_type": "execute_result"
    }
   ],
   "source": [
    "sales_dat"
   ]
  },
  {
   "cell_type": "code",
   "execution_count": 286,
   "metadata": {},
   "outputs": [],
   "source": [
    "charity_profit.loc[charity_profit['Type'] == 'NYOP', 'Rev'] = charity_profit.loc[charity_profit['Type'] == 'NYOP', 'Rev'] / 3\n",
    "charity_profit.loc[charity_profit['Type'] == 'FR', 'Rev'] = charity_profit.loc[charity_profit['Type'] == 'FR', 'Rev'] / 2"
   ]
  },
  {
   "cell_type": "code",
   "execution_count": 58,
   "metadata": {},
   "outputs": [
    {
     "ename": "NameError",
     "evalue": "name 'charity_profit' is not defined",
     "output_type": "error",
     "traceback": [
      "\u001b[0;31m---------------------------------------------------------------------------\u001b[0m",
      "\u001b[0;31mNameError\u001b[0m                                 Traceback (most recent call last)",
      "Cell \u001b[0;32mIn[58], line 1\u001b[0m\n\u001b[0;32m----> 1\u001b[0m charity_profit[\u001b[38;5;124m'\u001b[39m\u001b[38;5;124mYearly_Profit\u001b[39m\u001b[38;5;124m'\u001b[39m] \u001b[38;5;241m=\u001b[39m \u001b[43mcharity_profit\u001b[49m[\u001b[38;5;124m'\u001b[39m\u001b[38;5;124mRev\u001b[39m\u001b[38;5;124m'\u001b[39m] \u001b[38;5;241m*\u001b[39m \u001b[38;5;241m365\u001b[39m\n\u001b[1;32m      2\u001b[0m charity_profit[\u001b[38;5;124m'\u001b[39m\u001b[38;5;124mYearly_Profit\u001b[39m\u001b[38;5;124m'\u001b[39m][::\u001b[38;5;241m-\u001b[39m\u001b[38;5;241m1\u001b[39m]\u001b[38;5;241m.\u001b[39mdiff()\u001b[38;5;241m.\u001b[39miloc[\u001b[38;5;241m1\u001b[39m] \u001b[38;5;66;03m# The difference between the strategy profits\u001b[39;00m\n",
      "\u001b[0;31mNameError\u001b[0m: name 'charity_profit' is not defined"
     ]
    }
   ],
   "source": [
    "charity_profit['Yearly_Profit'] = charity_profit['Rev'] * 365\n",
    "charity_profit['Yearly_Profit'][::-1].diff().iloc[1] # The difference between the strategy profits"
   ]
  },
  {
   "cell_type": "markdown",
   "metadata": {},
   "source": [
    "# Q5"
   ]
  },
  {
   "cell_type": "code",
   "execution_count": 288,
   "metadata": {},
   "outputs": [
    {
     "data": {
      "text/html": [
       "<div>\n",
       "<style scoped>\n",
       "    .dataframe tbody tr th:only-of-type {\n",
       "        vertical-align: middle;\n",
       "    }\n",
       "\n",
       "    .dataframe tbody tr th {\n",
       "        vertical-align: top;\n",
       "    }\n",
       "\n",
       "    .dataframe thead th {\n",
       "        text-align: right;\n",
       "    }\n",
       "</style>\n",
       "<table border=\"1\" class=\"dataframe\">\n",
       "  <thead>\n",
       "    <tr style=\"text-align: right;\">\n",
       "      <th></th>\n",
       "      <th>Condition</th>\n",
       "      <th>NumberSold</th>\n",
       "      <th>Riders</th>\n",
       "      <th>MerchandiseRevenues</th>\n",
       "    </tr>\n",
       "  </thead>\n",
       "  <tbody>\n",
       "    <tr>\n",
       "      <th>0</th>\n",
       "      <td>FR</td>\n",
       "      <td>140</td>\n",
       "      <td>28224</td>\n",
       "      <td>11280.98</td>\n",
       "    </tr>\n",
       "    <tr>\n",
       "      <th>1</th>\n",
       "      <td>FR Charity</td>\n",
       "      <td>180</td>\n",
       "      <td>30592</td>\n",
       "      <td>12322.72</td>\n",
       "    </tr>\n",
       "    <tr>\n",
       "      <th>2</th>\n",
       "      <td>NYOP</td>\n",
       "      <td>2370</td>\n",
       "      <td>28263</td>\n",
       "      <td>11883.90</td>\n",
       "    </tr>\n",
       "    <tr>\n",
       "      <th>3</th>\n",
       "      <td>NYOP Charity</td>\n",
       "      <td>1793</td>\n",
       "      <td>44085</td>\n",
       "      <td>20251.50</td>\n",
       "    </tr>\n",
       "  </tbody>\n",
       "</table>\n",
       "</div>"
      ],
      "text/plain": [
       "      Condition  NumberSold  Riders  MerchandiseRevenues\n",
       "0            FR         140   28224             11280.98\n",
       "1    FR Charity         180   30592             12322.72\n",
       "2          NYOP        2370   28263             11883.90\n",
       "3  NYOP Charity        1793   44085             20251.50"
      ]
     },
     "execution_count": 288,
     "metadata": {},
     "output_type": "execute_result"
    }
   ],
   "source": [
    "grouped_sales = sales_dat.groupby('Condition').sum().reset_index()\n",
    "grouped_sales"
   ]
  },
  {
   "cell_type": "code",
   "execution_count": 289,
   "metadata": {},
   "outputs": [
    {
     "data": {
      "text/html": [
       "<div>\n",
       "<style scoped>\n",
       "    .dataframe tbody tr th:only-of-type {\n",
       "        vertical-align: middle;\n",
       "    }\n",
       "\n",
       "    .dataframe tbody tr th {\n",
       "        vertical-align: top;\n",
       "    }\n",
       "\n",
       "    .dataframe thead th {\n",
       "        text-align: right;\n",
       "    }\n",
       "</style>\n",
       "<table border=\"1\" class=\"dataframe\">\n",
       "  <thead>\n",
       "    <tr style=\"text-align: right;\">\n",
       "      <th></th>\n",
       "      <th>Condition</th>\n",
       "      <th>NumberSold</th>\n",
       "      <th>Riders</th>\n",
       "      <th>MerchandiseRevenues</th>\n",
       "      <th>MerchSpendingPerRider</th>\n",
       "      <th>PhotoBuyerMerch</th>\n",
       "    </tr>\n",
       "  </thead>\n",
       "  <tbody>\n",
       "    <tr>\n",
       "      <th>0</th>\n",
       "      <td>FR</td>\n",
       "      <td>140</td>\n",
       "      <td>28224</td>\n",
       "      <td>11280.98</td>\n",
       "      <td>0.399695</td>\n",
       "      <td>80.578429</td>\n",
       "    </tr>\n",
       "    <tr>\n",
       "      <th>1</th>\n",
       "      <td>FR Charity</td>\n",
       "      <td>180</td>\n",
       "      <td>30592</td>\n",
       "      <td>12322.72</td>\n",
       "      <td>0.402809</td>\n",
       "      <td>68.459556</td>\n",
       "    </tr>\n",
       "    <tr>\n",
       "      <th>2</th>\n",
       "      <td>NYOP</td>\n",
       "      <td>2370</td>\n",
       "      <td>28263</td>\n",
       "      <td>11883.90</td>\n",
       "      <td>0.420476</td>\n",
       "      <td>5.014304</td>\n",
       "    </tr>\n",
       "    <tr>\n",
       "      <th>3</th>\n",
       "      <td>NYOP Charity</td>\n",
       "      <td>1793</td>\n",
       "      <td>44085</td>\n",
       "      <td>20251.50</td>\n",
       "      <td>0.459374</td>\n",
       "      <td>11.294757</td>\n",
       "    </tr>\n",
       "  </tbody>\n",
       "</table>\n",
       "</div>"
      ],
      "text/plain": [
       "      Condition  NumberSold  Riders  MerchandiseRevenues  \\\n",
       "0            FR         140   28224             11280.98   \n",
       "1    FR Charity         180   30592             12322.72   \n",
       "2          NYOP        2370   28263             11883.90   \n",
       "3  NYOP Charity        1793   44085             20251.50   \n",
       "\n",
       "   MerchSpendingPerRider  PhotoBuyerMerch  \n",
       "0               0.399695        80.578429  \n",
       "1               0.402809        68.459556  \n",
       "2               0.420476         5.014304  \n",
       "3               0.459374        11.294757  "
      ]
     },
     "execution_count": 289,
     "metadata": {},
     "output_type": "execute_result"
    }
   ],
   "source": [
    "grouped_sales['MerchSpendingPerRider'] = grouped_sales['MerchandiseRevenues'] / grouped_sales['Riders']\n",
    "grouped_sales['PhotoBuyerMerch'] = grouped_sales['MerchandiseRevenues'] / grouped_sales['NumberSold']\n",
    "grouped_sales"
   ]
  },
  {
   "cell_type": "code",
   "execution_count": 237,
   "metadata": {},
   "outputs": [
    {
     "data": {
      "text/html": [
       "<div>\n",
       "<style scoped>\n",
       "    .dataframe tbody tr th:only-of-type {\n",
       "        vertical-align: middle;\n",
       "    }\n",
       "\n",
       "    .dataframe tbody tr th {\n",
       "        vertical-align: top;\n",
       "    }\n",
       "\n",
       "    .dataframe thead th {\n",
       "        text-align: right;\n",
       "    }\n",
       "</style>\n",
       "<table border=\"1\" class=\"dataframe\">\n",
       "  <thead>\n",
       "    <tr style=\"text-align: right;\">\n",
       "      <th></th>\n",
       "      <th>Condition</th>\n",
       "      <th>NumberSold</th>\n",
       "      <th>Riders</th>\n",
       "      <th>MerchandiseRevenues</th>\n",
       "      <th>MerchSpendingPerRider</th>\n",
       "      <th>PhotoBuyerMerch</th>\n",
       "    </tr>\n",
       "  </thead>\n",
       "  <tbody>\n",
       "    <tr>\n",
       "      <th>0</th>\n",
       "      <td>FR</td>\n",
       "      <td>77</td>\n",
       "      <td>12663</td>\n",
       "      <td>4592.41</td>\n",
       "      <td>0.362664</td>\n",
       "      <td>59.641688</td>\n",
       "    </tr>\n",
       "    <tr>\n",
       "      <th>1</th>\n",
       "      <td>FR</td>\n",
       "      <td>63</td>\n",
       "      <td>15561</td>\n",
       "      <td>6688.57</td>\n",
       "      <td>0.429829</td>\n",
       "      <td>106.167778</td>\n",
       "    </tr>\n",
       "    <tr>\n",
       "      <th>2</th>\n",
       "      <td>FR Charity</td>\n",
       "      <td>79</td>\n",
       "      <td>14796</td>\n",
       "      <td>6476.78</td>\n",
       "      <td>0.437739</td>\n",
       "      <td>81.984557</td>\n",
       "    </tr>\n",
       "    <tr>\n",
       "      <th>3</th>\n",
       "      <td>FR Charity</td>\n",
       "      <td>101</td>\n",
       "      <td>15796</td>\n",
       "      <td>5845.94</td>\n",
       "      <td>0.370090</td>\n",
       "      <td>57.880594</td>\n",
       "    </tr>\n",
       "    <tr>\n",
       "      <th>4</th>\n",
       "      <td>NYOP</td>\n",
       "      <td>1137</td>\n",
       "      <td>14077</td>\n",
       "      <td>4845.27</td>\n",
       "      <td>0.344198</td>\n",
       "      <td>4.261451</td>\n",
       "    </tr>\n",
       "    <tr>\n",
       "      <th>5</th>\n",
       "      <td>NYOP</td>\n",
       "      <td>1233</td>\n",
       "      <td>14186</td>\n",
       "      <td>7038.63</td>\n",
       "      <td>0.496167</td>\n",
       "      <td>5.708540</td>\n",
       "    </tr>\n",
       "    <tr>\n",
       "      <th>6</th>\n",
       "      <td>NYOP Charity</td>\n",
       "      <td>539</td>\n",
       "      <td>12227</td>\n",
       "      <td>5690.59</td>\n",
       "      <td>0.465412</td>\n",
       "      <td>10.557681</td>\n",
       "    </tr>\n",
       "    <tr>\n",
       "      <th>7</th>\n",
       "      <td>NYOP Charity</td>\n",
       "      <td>628</td>\n",
       "      <td>13741</td>\n",
       "      <td>6003.44</td>\n",
       "      <td>0.436900</td>\n",
       "      <td>9.559618</td>\n",
       "    </tr>\n",
       "    <tr>\n",
       "      <th>8</th>\n",
       "      <td>NYOP Charity</td>\n",
       "      <td>626</td>\n",
       "      <td>18117</td>\n",
       "      <td>8557.47</td>\n",
       "      <td>0.472345</td>\n",
       "      <td>13.670080</td>\n",
       "    </tr>\n",
       "  </tbody>\n",
       "</table>\n",
       "</div>"
      ],
      "text/plain": [
       "      Condition  NumberSold  Riders  MerchandiseRevenues  \\\n",
       "0            FR          77   12663              4592.41   \n",
       "1            FR          63   15561              6688.57   \n",
       "2    FR Charity          79   14796              6476.78   \n",
       "3    FR Charity         101   15796              5845.94   \n",
       "4          NYOP        1137   14077              4845.27   \n",
       "5          NYOP        1233   14186              7038.63   \n",
       "6  NYOP Charity         539   12227              5690.59   \n",
       "7  NYOP Charity         628   13741              6003.44   \n",
       "8  NYOP Charity         626   18117              8557.47   \n",
       "\n",
       "   MerchSpendingPerRider  PhotoBuyerMerch  \n",
       "0               0.362664        59.641688  \n",
       "1               0.429829       106.167778  \n",
       "2               0.437739        81.984557  \n",
       "3               0.370090        57.880594  \n",
       "4               0.344198         4.261451  \n",
       "5               0.496167         5.708540  \n",
       "6               0.465412        10.557681  \n",
       "7               0.436900         9.559618  \n",
       "8               0.472345        13.670080  "
      ]
     },
     "execution_count": 237,
     "metadata": {},
     "output_type": "execute_result"
    }
   ],
   "source": [
    "sales_dat['MerchSpendingPerRider'] = sales_dat['MerchandiseRevenues'] / sales_dat['Riders']\n",
    "sales_dat['PhotoBuyerMerch'] = sales_dat['MerchandiseRevenues'] / sales_dat['NumberSold']\n",
    "sales_dat"
   ]
  },
  {
   "cell_type": "markdown",
   "metadata": {},
   "source": [
    "The general concern for merchandise sales is related to the crowding out effect of photo purchases against merchandise purchases. Overall, we see that the merchandise spending per rider does not change across the condition they are facing without considering the fact that each person did or did not buy any photos. If anything we see that there is no identifiable relationship between the merchandise sales and photo purchasing. Under examination of the aggregated data, we see that merchandise revenue per rider is the highest under the NYOP + charity condition. Overall, we can see that incorporating SSR into the park's pricing strategy may create perception of positive corporate social responsibility which minimizes the firm's profit driven motivations. "
   ]
  }
 ],
 "metadata": {
  "kernelspec": {
   "display_name": "base",
   "language": "python",
   "name": "python3"
  },
  "language_info": {
   "codemirror_mode": {
    "name": "ipython",
    "version": 3
   },
   "file_extension": ".py",
   "mimetype": "text/x-python",
   "name": "python",
   "nbconvert_exporter": "python",
   "pygments_lexer": "ipython3",
   "version": "3.11.9"
  }
 },
 "nbformat": 4,
 "nbformat_minor": 2
}
